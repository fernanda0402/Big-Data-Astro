{
  "nbformat": 4,
  "nbformat_minor": 0,
  "metadata": {
    "colab": {
      "name": "Projeto - Iminuit.ipynb",
      "provenance": [],
      "collapsed_sections": [],
      "include_colab_link": true
    },
    "kernelspec": {
      "name": "python3",
      "display_name": "Python 3"
    },
    "language_info": {
      "name": "python"
    }
  },
  "cells": [
    {
      "cell_type": "markdown",
      "metadata": {
        "id": "view-in-github",
        "colab_type": "text"
      },
      "source": [
        "<a href=\"https://colab.research.google.com/github/fernanda0402/Big-Data-Astro/blob/main/Projeto_Iminuit.ipynb\" target=\"_parent\"><img src=\"https://colab.research.google.com/assets/colab-badge.svg\" alt=\"Open In Colab\"/></a>"
      ]
    },
    {
      "cell_type": "markdown",
      "metadata": {
        "id": "WsH0EfgbKVKC"
      },
      "source": [
        "Refazendo o exemplo dado em https://indico.cern.ch/event/833895/contributions/3577808/attachments/1927550/3191336/iminuit_intro.html ."
      ]
    },
    {
      "cell_type": "code",
      "metadata": {
        "colab": {
          "base_uri": "https://localhost:8080/"
        },
        "id": "xhNB8vAxzIaT",
        "outputId": "a095bc08-708d-4b93-dd2c-b7a62946fd92"
      },
      "source": [
        "# !pip install iminuit matplotlib numpy\n",
        "%matplotlib inline\n",
        "from matplotlib import pyplot as plt\n",
        "plt.rcParams[\"font.size\"] = 20\n",
        "import numpy as np\n",
        "!pip3 install iminuit"
      ],
      "execution_count": 1,
      "outputs": [
        {
          "output_type": "stream",
          "name": "stdout",
          "text": [
            "Collecting iminuit\n",
            "  Downloading iminuit-2.8.4-cp37-cp37m-manylinux_2_12_x86_64.manylinux2010_x86_64.whl (334 kB)\n",
            "\u001b[?25l\r\u001b[K     |█                               | 10 kB 22.8 MB/s eta 0:00:01\r\u001b[K     |██                              | 20 kB 28.2 MB/s eta 0:00:01\r\u001b[K     |███                             | 30 kB 24.6 MB/s eta 0:00:01\r\u001b[K     |████                            | 40 kB 19.6 MB/s eta 0:00:01\r\u001b[K     |█████                           | 51 kB 8.5 MB/s eta 0:00:01\r\u001b[K     |█████▉                          | 61 kB 9.9 MB/s eta 0:00:01\r\u001b[K     |██████▉                         | 71 kB 9.3 MB/s eta 0:00:01\r\u001b[K     |███████▉                        | 81 kB 10.3 MB/s eta 0:00:01\r\u001b[K     |████████▉                       | 92 kB 10.4 MB/s eta 0:00:01\r\u001b[K     |█████████▉                      | 102 kB 8.2 MB/s eta 0:00:01\r\u001b[K     |██████████▉                     | 112 kB 8.2 MB/s eta 0:00:01\r\u001b[K     |███████████▊                    | 122 kB 8.2 MB/s eta 0:00:01\r\u001b[K     |████████████▊                   | 133 kB 8.2 MB/s eta 0:00:01\r\u001b[K     |█████████████▊                  | 143 kB 8.2 MB/s eta 0:00:01\r\u001b[K     |██████████████▊                 | 153 kB 8.2 MB/s eta 0:00:01\r\u001b[K     |███████████████▊                | 163 kB 8.2 MB/s eta 0:00:01\r\u001b[K     |████████████████▊               | 174 kB 8.2 MB/s eta 0:00:01\r\u001b[K     |█████████████████▋              | 184 kB 8.2 MB/s eta 0:00:01\r\u001b[K     |██████████████████▋             | 194 kB 8.2 MB/s eta 0:00:01\r\u001b[K     |███████████████████▋            | 204 kB 8.2 MB/s eta 0:00:01\r\u001b[K     |████████████████████▋           | 215 kB 8.2 MB/s eta 0:00:01\r\u001b[K     |█████████████████████▋          | 225 kB 8.2 MB/s eta 0:00:01\r\u001b[K     |██████████████████████▌         | 235 kB 8.2 MB/s eta 0:00:01\r\u001b[K     |███████████████████████▌        | 245 kB 8.2 MB/s eta 0:00:01\r\u001b[K     |████████████████████████▌       | 256 kB 8.2 MB/s eta 0:00:01\r\u001b[K     |█████████████████████████▌      | 266 kB 8.2 MB/s eta 0:00:01\r\u001b[K     |██████████████████████████▌     | 276 kB 8.2 MB/s eta 0:00:01\r\u001b[K     |███████████████████████████▌    | 286 kB 8.2 MB/s eta 0:00:01\r\u001b[K     |████████████████████████████▍   | 296 kB 8.2 MB/s eta 0:00:01\r\u001b[K     |█████████████████████████████▍  | 307 kB 8.2 MB/s eta 0:00:01\r\u001b[K     |██████████████████████████████▍ | 317 kB 8.2 MB/s eta 0:00:01\r\u001b[K     |███████████████████████████████▍| 327 kB 8.2 MB/s eta 0:00:01\r\u001b[K     |████████████████████████████████| 334 kB 8.2 MB/s \n",
            "\u001b[?25hRequirement already satisfied: numpy in /usr/local/lib/python3.7/dist-packages (from iminuit) (1.19.5)\n",
            "Installing collected packages: iminuit\n",
            "Successfully installed iminuit-2.8.4\n"
          ]
        }
      ]
    },
    {
      "cell_type": "markdown",
      "metadata": {
        "id": "PD0xd9MhzpXA"
      },
      "source": [
        "Exemplo: Vamos usar um modelo de função linear"
      ]
    },
    {
      "cell_type": "code",
      "metadata": {
        "colab": {
          "base_uri": "https://localhost:8080/",
          "height": 265
        },
        "id": "yASwSLtzzohU",
        "outputId": "337d32f4-59af-4221-c545-127c04310e49"
      },
      "source": [
        "# let's make a line model\n",
        "def line(x, a, b):\n",
        "    return a + (x * b)\n",
        "\n",
        "a_true = 1.0\n",
        "b_true = 2.0\n",
        "\n",
        "# let's make some data\n",
        "x = np.linspace(0, 1, 10)\n",
        "\n",
        "# precomputed random numbers from standard normal distribution\n",
        "z = np.array([-0.49783783, -0.33041722, -1.71800806,  1.60229399,\n",
        "                 1.36682387, -1.15424221, -0.91425267, -0.03395604,\n",
        "                 -1.27611719, -0.7004073 ])\n",
        "\n",
        "sigma_y = 0.1 * np.ones_like(x)\n",
        "y = line(x, a_true, b_true) + sigma_y * z\n",
        "\n",
        "plt.errorbar(x, y, sigma_y, fmt=\"o\")\n",
        "plt.xlim(-0.1, 1.1);"
      ],
      "execution_count": 2,
      "outputs": [
        {
          "output_type": "display_data",
          "data": {
            "image/png": "[encoded data removed]",
            "text/plain": [
              "<Figure size 432x288 with 1 Axes>"
            ]
          },
          "metadata": {
            "needs_background": "light"
          }
        }
      ]
    },
    {
      "cell_type": "markdown",
      "metadata": {
        "id": "4bq28tBPzzhH"
      },
      "source": [
        "*   Estimar os valores dos parâmetros (a,b) a partir dos dados;\n",
        "*   Precisamos de um valor mínimo para o qual o modelo melhor concorda com os dados: método dos mínimos quadrados ou método da máxima likelihood;\n",
        "*   O MINUIT sempre minimiza;\n",
        "*   Usar o IMINUIT para minimizar numericamente como função dos parâmetros do modelo.\n",
        "\n",
        "\n",
        "\n"
      ]
    },
    {
      "cell_type": "code",
      "metadata": {
        "id": "hzAk15tk0wCK"
      },
      "source": [
        "# least-squares score function = sum of data residuals squared\n",
        "def LSQ(a, b):\n",
        "    return np.sum((y - line(x, a, b)) ** 2 / sigma_y ** 2)"
      ],
      "execution_count": 3,
      "outputs": []
    },
    {
      "cell_type": "code",
      "metadata": {
        "id": "BV0JgYox0ycf"
      },
      "source": [
        "# everything in iminuit is done through the Minuit object, so we import it\n",
        "from iminuit import Minuit"
      ],
      "execution_count": 4,
      "outputs": []
    },
    {
      "cell_type": "code",
      "metadata": {
        "id": "dtt9sYw_9Bo7"
      },
      "source": [
        "# create instance of Minuit and pass score function to minimize\n",
        "m = Minuit(LSQ)\n",
        "\n",
        "#dá errado"
      ],
      "execution_count": null,
      "outputs": []
    },
    {
      "cell_type": "markdown",
      "metadata": {
        "id": "w7_bGJzr6JQM"
      },
      "source": [
        "\n",
        "\n",
        "*   MINUIT busca por mínimos locais usando o método \"gradiente-descendente\" a partir do ponto de partida;\n",
        "*   Se a função possui muitos mínimos, o mínimo encontrado vai depender do ponto de partida;\n",
        "*   Se a função possui só um mínimo, o IMINUIT vai convergir mais rapidamente se começar mais próximo desse;\n",
        "*   Se não for fornecido um ponto de partida, o IMINUIT começará do zero (o que pode ser ruim)."
      ]
    },
    {
      "cell_type": "code",
      "metadata": {
        "id": "vHYgAKTs6JaZ"
      },
      "source": [
        "# set start values via keywords for a and b\n",
        "m = Minuit(LSQ, a=5, b=5)"
      ],
      "execution_count": 6,
      "outputs": []
    },
    {
      "cell_type": "code",
      "metadata": {
        "id": "zXt8p1vm9N66"
      },
      "source": [
        "# set step size with error_<name>=... keyword\n",
        "m = Minuit(LSQ, a=5, b=5)\n",
        "\n",
        "m.limits['a'] = (0,10)\n",
        "m.limits['b'] = (0,10)"
      ],
      "execution_count": 7,
      "outputs": []
    },
    {
      "cell_type": "code",
      "metadata": {
        "id": "YohT1kg_N1jq",
        "colab": {
          "base_uri": "https://localhost:8080/",
          "height": 316
        },
        "outputId": "e9e3593f-f357-463a-8932-3ba7ade63240"
      },
      "source": [
        "m.migrad()"
      ],
      "execution_count": 8,
      "outputs": [
        {
          "output_type": "stream",
          "name": "stderr",
          "text": [
            "/usr/local/lib/python3.7/dist-packages/ipykernel_launcher.py:1: IMinuitWarning: errordef not set, using 1 (appropriate for least-squares)\n",
            "  \"\"\"Entry point for launching an IPython kernel.\n"
          ]
        },
        {
          "output_type": "execute_result",
          "data": {
            "text/html": [
              "<table>\n",
              "    <tr>\n",
              "        <th colspan=\"5\" style=\"text-align:center\" title=\"Minimizer\"> Migrad </th>\n",
              "    </tr>\n",
              "    <tr>\n",
              "        <td colspan=\"2\" style=\"text-align:left\" title=\"Minimum value of function\"> FCN = 10.39 </td>\n",
              "        <td colspan=\"3\" style=\"text-align:center\" title=\"No. of function evaluations in last call and total number\"> Nfcn = 75 </td>\n",
              "    </tr>\n",
              "    <tr>\n",
              "        <td colspan=\"2\" style=\"text-align:left\" title=\"Estimated distance to minimum and goal\"> EDM = 9.63e-08 (Goal: 0.0002) </td>\n",
              "        <td colspan=\"3\" style=\"text-align:center\" title=\"No. of gradient evaluations in last call and total number\">  </td>\n",
              "    </tr>\n",
              "    <tr>\n",
              "        <td colspan=\"2\" style=\"text-align:center;background-color:#92CCA6;color:black\"> Valid Minimum </td>\n",
              "        <td colspan=\"3\" style=\"text-align:center;background-color:#92CCA6;color:black\"> No Parameters at limit </td>\n",
              "    </tr>\n",
              "    <tr>\n",
              "        <td colspan=\"2\" style=\"text-align:center;background-color:#92CCA6;color:black\"> Below EDM threshold (goal x 10) </td>\n",
              "        <td colspan=\"3\" style=\"text-align:center;background-color:#92CCA6;color:black\"> Below call limit </td>\n",
              "    </tr>\n",
              "    <tr>\n",
              "        <td style=\"text-align:center;background-color:#92CCA6;color:black\"> Covariance </td>\n",
              "        <td style=\"text-align:center;background-color:#92CCA6;color:black\"> Hesse ok </td>\n",
              "        <td style=\"text-align:center;background-color:#92CCA6;color:black\" title=\"Is covariance matrix accurate?\"> Accurate </td>\n",
              "        <td style=\"text-align:center;background-color:#92CCA6;color:black\" title=\"Is covariance matrix positive definite?\"> Pos. def. </td>\n",
              "        <td style=\"text-align:center;background-color:#92CCA6;color:black\" title=\"Was positive definiteness enforced by Minuit?\"> Not forced </td>\n",
              "    </tr>\n",
              "</table><table>\n",
              "    <tr>\n",
              "        <td></td>\n",
              "        <th title=\"Variable name\"> Name </th>\n",
              "        <th title=\"Value of parameter\"> Value </th>\n",
              "        <th title=\"Hesse error\"> Hesse Error </th>\n",
              "        <th title=\"Minos lower error\"> Minos Error- </th>\n",
              "        <th title=\"Minos upper error\"> Minos Error+ </th>\n",
              "        <th title=\"Lower limit of the parameter\"> Limit- </th>\n",
              "        <th title=\"Upper limit of the parameter\"> Limit+ </th>\n",
              "        <th title=\"Is the parameter fixed in the fit\"> Fixed </th>\n",
              "    </tr>\n",
              "    <tr>\n",
              "        <th> 0 </th>\n",
              "        <td> a </td>\n",
              "        <td> 0.99 </td>\n",
              "        <td> 0.06 </td>\n",
              "        <td>  </td>\n",
              "        <td>  </td>\n",
              "        <td> 0 </td>\n",
              "        <td> 10 </td>\n",
              "        <td>  </td>\n",
              "    </tr>\n",
              "    <tr>\n",
              "        <th> 1 </th>\n",
              "        <td> b </td>\n",
              "        <td> 1.94 </td>\n",
              "        <td> 0.10 </td>\n",
              "        <td>  </td>\n",
              "        <td>  </td>\n",
              "        <td> 0 </td>\n",
              "        <td> 10 </td>\n",
              "        <td>  </td>\n",
              "    </tr>\n",
              "</table><table>\n",
              "    <tr>\n",
              "        <td></td>\n",
              "        <th> a </th>\n",
              "        <th> b </th>\n",
              "    </tr>\n",
              "    <tr>\n",
              "        <th> a </th>\n",
              "        <td> 0.00345 </td>\n",
              "        <td style=\"background-color:rgb(140,140,250);color:black\"> -0.00491 <strong>(-0.843)</strong> </td>\n",
              "    </tr>\n",
              "    <tr>\n",
              "        <th> b </th>\n",
              "        <td style=\"background-color:rgb(140,140,250);color:black\"> -0.00491 <strong>(-0.843)</strong> </td>\n",
              "        <td> 0.00982 </td>\n",
              "    </tr>\n",
              "</table>"
            ],
            "text/plain": [
              "┌─────────────────────────────────────────────────────────────────────────┐\n",
              "│                                Migrad                                   │\n",
              "├──────────────────────────────────┬──────────────────────────────────────┤\n",
              "│ FCN = 10.39                      │              Nfcn = 75               │\n",
              "│ EDM = 9.63e-08 (Goal: 0.0002)    │                                      │\n",
              "├──────────────────────────────────┼──────────────────────────────────────┤\n",
              "│          Valid Minimum           │        No Parameters at limit        │\n",
              "├──────────────────────────────────┼──────────────────────────────────────┤\n",
              "│ Below EDM threshold (goal x 10)  │           Below call limit           │\n",
              "├───────────────┬──────────────────┼───────────┬─────────────┬────────────┤\n",
              "│  Covariance   │     Hesse ok     │ Accurate  │  Pos. def.  │ Not forced │\n",
              "└───────────────┴──────────────────┴───────────┴─────────────┴────────────┘\n",
              "┌───┬──────┬───────────┬───────────┬────────────┬────────────┬─────────┬─────────┬───────┐\n",
              "│   │ Name │   Value   │ Hesse Err │ Minos Err- │ Minos Err+ │ Limit-  │ Limit+  │ Fixed │\n",
              "├───┼──────┼───────────┼───────────┼────────────┼────────────┼─────────┼─────────┼───────┤\n",
              "│ 0 │ a    │   0.99    │   0.06    │            │            │    0    │   10    │       │\n",
              "│ 1 │ b    │   1.94    │   0.10    │            │            │    0    │   10    │       │\n",
              "└───┴──────┴───────────┴───────────┴────────────┴────────────┴─────────┴─────────┴───────┘\n",
              "┌───┬───────────────────┐\n",
              "│   │        a        b │\n",
              "├───┼───────────────────┤\n",
              "│ a │  0.00345 -0.00491 │\n",
              "│ b │ -0.00491  0.00982 │\n",
              "└───┴───────────────────┘"
            ]
          },
          "metadata": {},
          "execution_count": 8
        }
      ]
    },
    {
      "cell_type": "code",
      "metadata": {
        "id": "o1HAYWBf9Gbo"
      },
      "source": [
        "# set step size with error_<name>=... keyword\n",
        "m = Minuit(LSQ, a=5, b=5, error_a=0.1, error_b=0.1)\n",
        "\n",
        "#dá erro"
      ],
      "execution_count": null,
      "outputs": []
    },
    {
      "cell_type": "code",
      "metadata": {
        "id": "uiPUr0h99IVS"
      },
      "source": [
        "# set errordef=1 for least-squares score function\n",
        "m = Minuit(LSQ, a=5, b=5, error_a=0.1, error_b=0.1, errordef=1)\n",
        "\n",
        "# fast alternative: just silence all warnings\n",
        "m = Minuit(LSQ, pedantic=False)\n",
        "\n",
        "#dá erro"
      ],
      "execution_count": null,
      "outputs": []
    },
    {
      "cell_type": "code",
      "metadata": {
        "colab": {
          "base_uri": "https://localhost:8080/",
          "height": 265
        },
        "id": "5eGc6uJBONJp",
        "outputId": "0b0d2dda-9d4b-4a8c-d8e4-56f475c93911"
      },
      "source": [
        "# get parameter values\n",
        "a_fit = m.values[\"a\"]  # m.values[0] also works\n",
        "b_fit = m.values[\"b\"]  # m.values[1] also works\n",
        "\n",
        "plt.errorbar(x, y, sigma_y, fmt=\"o\")\n",
        "plt.plot(x, line(x, a_fit, b_fit));"
      ],
      "execution_count": 11,
      "outputs": [
        {
          "output_type": "display_data",
          "data": {
            "image/png": "[encoded data removed]",
            "text/plain": [
              "<Figure size 432x288 with 1 Axes>"
            ]
          },
          "metadata": {
            "needs_background": "light"
          }
        }
      ]
    },
    {
      "cell_type": "code",
      "metadata": {
        "colab": {
          "base_uri": "https://localhost:8080/",
          "height": 279
        },
        "id": "WlA_gTG8OQHx",
        "outputId": "d9809d09-db3e-4e7b-f6f2-dadfaf4a1ab5"
      },
      "source": [
        "# release fix on \"a\" and minimize again\n",
        "m.fixed[\"a\"] = False  # m.fixed[0] = False also works\n",
        "m.migrad()"
      ],
      "execution_count": 12,
      "outputs": [
        {
          "output_type": "execute_result",
          "data": {
            "text/html": [
              "<table>\n",
              "    <tr>\n",
              "        <th colspan=\"5\" style=\"text-align:center\" title=\"Minimizer\"> Migrad </th>\n",
              "    </tr>\n",
              "    <tr>\n",
              "        <td colspan=\"2\" style=\"text-align:left\" title=\"Minimum value of function\"> FCN = 10.39 </td>\n",
              "        <td colspan=\"3\" style=\"text-align:center\" title=\"No. of function evaluations in last call and total number\"> Nfcn = 89 </td>\n",
              "    </tr>\n",
              "    <tr>\n",
              "        <td colspan=\"2\" style=\"text-align:left\" title=\"Estimated distance to minimum and goal\"> EDM = 7.94e-16 (Goal: 0.0002) </td>\n",
              "        <td colspan=\"3\" style=\"text-align:center\" title=\"No. of gradient evaluations in last call and total number\">  </td>\n",
              "    </tr>\n",
              "    <tr>\n",
              "        <td colspan=\"2\" style=\"text-align:center;background-color:#92CCA6;color:black\"> Valid Minimum </td>\n",
              "        <td colspan=\"3\" style=\"text-align:center;background-color:#92CCA6;color:black\"> No Parameters at limit </td>\n",
              "    </tr>\n",
              "    <tr>\n",
              "        <td colspan=\"2\" style=\"text-align:center;background-color:#92CCA6;color:black\"> Below EDM threshold (goal x 10) </td>\n",
              "        <td colspan=\"3\" style=\"text-align:center;background-color:#92CCA6;color:black\"> Below call limit </td>\n",
              "    </tr>\n",
              "    <tr>\n",
              "        <td style=\"text-align:center;background-color:#92CCA6;color:black\"> Covariance </td>\n",
              "        <td style=\"text-align:center;background-color:#92CCA6;color:black\"> Hesse ok </td>\n",
              "        <td style=\"text-align:center;background-color:#92CCA6;color:black\" title=\"Is covariance matrix accurate?\"> Accurate </td>\n",
              "        <td style=\"text-align:center;background-color:#92CCA6;color:black\" title=\"Is covariance matrix positive definite?\"> Pos. def. </td>\n",
              "        <td style=\"text-align:center;background-color:#92CCA6;color:black\" title=\"Was positive definiteness enforced by Minuit?\"> Not forced </td>\n",
              "    </tr>\n",
              "</table><table>\n",
              "    <tr>\n",
              "        <td></td>\n",
              "        <th title=\"Variable name\"> Name </th>\n",
              "        <th title=\"Value of parameter\"> Value </th>\n",
              "        <th title=\"Hesse error\"> Hesse Error </th>\n",
              "        <th title=\"Minos lower error\"> Minos Error- </th>\n",
              "        <th title=\"Minos upper error\"> Minos Error+ </th>\n",
              "        <th title=\"Lower limit of the parameter\"> Limit- </th>\n",
              "        <th title=\"Upper limit of the parameter\"> Limit+ </th>\n",
              "        <th title=\"Is the parameter fixed in the fit\"> Fixed </th>\n",
              "    </tr>\n",
              "    <tr>\n",
              "        <th> 0 </th>\n",
              "        <td> a </td>\n",
              "        <td> 0.99 </td>\n",
              "        <td> 0.06 </td>\n",
              "        <td>  </td>\n",
              "        <td>  </td>\n",
              "        <td> 0 </td>\n",
              "        <td> 10 </td>\n",
              "        <td>  </td>\n",
              "    </tr>\n",
              "    <tr>\n",
              "        <th> 1 </th>\n",
              "        <td> b </td>\n",
              "        <td> 1.94 </td>\n",
              "        <td> 0.10 </td>\n",
              "        <td>  </td>\n",
              "        <td>  </td>\n",
              "        <td> 0 </td>\n",
              "        <td> 10 </td>\n",
              "        <td>  </td>\n",
              "    </tr>\n",
              "</table><table>\n",
              "    <tr>\n",
              "        <td></td>\n",
              "        <th> a </th>\n",
              "        <th> b </th>\n",
              "    </tr>\n",
              "    <tr>\n",
              "        <th> a </th>\n",
              "        <td> 0.00345 </td>\n",
              "        <td style=\"background-color:rgb(140,140,250);color:black\"> -0.00491 <strong>(-0.843)</strong> </td>\n",
              "    </tr>\n",
              "    <tr>\n",
              "        <th> b </th>\n",
              "        <td style=\"background-color:rgb(140,140,250);color:black\"> -0.00491 <strong>(-0.843)</strong> </td>\n",
              "        <td> 0.00982 </td>\n",
              "    </tr>\n",
              "</table>"
            ],
            "text/plain": [
              "┌─────────────────────────────────────────────────────────────────────────┐\n",
              "│                                Migrad                                   │\n",
              "├──────────────────────────────────┬──────────────────────────────────────┤\n",
              "│ FCN = 10.39                      │              Nfcn = 89               │\n",
              "│ EDM = 7.94e-16 (Goal: 0.0002)    │                                      │\n",
              "├──────────────────────────────────┼──────────────────────────────────────┤\n",
              "│          Valid Minimum           │        No Parameters at limit        │\n",
              "├──────────────────────────────────┼──────────────────────────────────────┤\n",
              "│ Below EDM threshold (goal x 10)  │           Below call limit           │\n",
              "├───────────────┬──────────────────┼───────────┬─────────────┬────────────┤\n",
              "│  Covariance   │     Hesse ok     │ Accurate  │  Pos. def.  │ Not forced │\n",
              "└───────────────┴──────────────────┴───────────┴─────────────┴────────────┘\n",
              "┌───┬──────┬───────────┬───────────┬────────────┬────────────┬─────────┬─────────┬───────┐\n",
              "│   │ Name │   Value   │ Hesse Err │ Minos Err- │ Minos Err+ │ Limit-  │ Limit+  │ Fixed │\n",
              "├───┼──────┼───────────┼───────────┼────────────┼────────────┼─────────┼─────────┼───────┤\n",
              "│ 0 │ a    │   0.99    │   0.06    │            │            │    0    │   10    │       │\n",
              "│ 1 │ b    │   1.94    │   0.10    │            │            │    0    │   10    │       │\n",
              "└───┴──────┴───────────┴───────────┴────────────┴────────────┴─────────┴─────────┴───────┘\n",
              "┌───┬───────────────────┐\n",
              "│   │        a        b │\n",
              "├───┼───────────────────┤\n",
              "│ a │  0.00345 -0.00491 │\n",
              "│ b │ -0.00491  0.00982 │\n",
              "└───┴───────────────────┘"
            ]
          },
          "metadata": {},
          "execution_count": 12
        }
      ]
    },
    {
      "cell_type": "code",
      "metadata": {
        "colab": {
          "base_uri": "https://localhost:8080/",
          "height": 265
        },
        "id": "GMFy71StOVOT",
        "outputId": "fd42f0c5-6488-4988-ae42-ccfe137e0d24"
      },
      "source": [
        "# get better parameter values\n",
        "a_fit = m.values[\"a\"]\n",
        "b_fit = m.values[\"b\"]\n",
        "\n",
        "plt.errorbar(x, y, sigma_y, fmt=\"o\")\n",
        "plt.plot(x, line(x, a_fit, b_fit))\n",
        "plt.xlim(-0.1, 1.1);"
      ],
      "execution_count": 13,
      "outputs": [
        {
          "output_type": "display_data",
          "data": {
            "image/png": "[encoded data removed]",
            "text/plain": [
              "<Figure size 432x288 with 1 Axes>"
            ]
          },
          "metadata": {
            "needs_background": "light"
          }
        }
      ]
    },
    {
      "cell_type": "markdown",
      "metadata": {
        "id": "mwujxjx1O0nc"
      },
      "source": [
        "Ajuste de modelo com número flexível de parâmetros:\n",
        "\n",
        "\n",
        "\n",
        "*   Modelo com número maior ou variável de parâmetros.\n"
      ]
    },
    {
      "cell_type": "code",
      "metadata": {
        "id": "Q4BhBhT-c5gQ"
      },
      "source": [
        "def LSQ_numpy(a, b, c, d):  # par is numpy array here  \n",
        "    par = [a, b, c, d] \n",
        "    ym = np.polyval(par, x)  # for len(par) == 2 this is a line \n",
        "    return np.sum((y - ym) ** 2 / sigma_y ** 2)"
      ],
      "execution_count": 14,
      "outputs": []
    },
    {
      "cell_type": "code",
      "metadata": {
        "id": "L--aPBahc9W0"
      },
      "source": [
        "m = Minuit(LSQ_numpy, a = 1., b = 1., c = 1., d = 1.)"
      ],
      "execution_count": 15,
      "outputs": []
    },
    {
      "cell_type": "code",
      "metadata": {
        "colab": {
          "base_uri": "https://localhost:8080/",
          "height": 402
        },
        "id": "fBBKRrJPc_Ir",
        "outputId": "c8e569a9-a90d-4297-a7dd-b5d921409bcd"
      },
      "source": [
        "m.migrad()"
      ],
      "execution_count": 16,
      "outputs": [
        {
          "output_type": "stream",
          "name": "stderr",
          "text": [
            "/usr/local/lib/python3.7/dist-packages/ipykernel_launcher.py:1: IMinuitWarning: errordef not set, using 1 (appropriate for least-squares)\n",
            "  \"\"\"Entry point for launching an IPython kernel.\n"
          ]
        },
        {
          "output_type": "execute_result",
          "data": {
            "text/html": [
              "<table>\n",
              "    <tr>\n",
              "        <th colspan=\"5\" style=\"text-align:center\" title=\"Minimizer\"> Migrad </th>\n",
              "    </tr>\n",
              "    <tr>\n",
              "        <td colspan=\"2\" style=\"text-align:left\" title=\"Minimum value of function\"> FCN = 9.033 </td>\n",
              "        <td colspan=\"3\" style=\"text-align:center\" title=\"No. of function evaluations in last call and total number\"> Nfcn = 96 </td>\n",
              "    </tr>\n",
              "    <tr>\n",
              "        <td colspan=\"2\" style=\"text-align:left\" title=\"Estimated distance to minimum and goal\"> EDM = 8.56e-20 (Goal: 0.0002) </td>\n",
              "        <td colspan=\"3\" style=\"text-align:center\" title=\"No. of gradient evaluations in last call and total number\">  </td>\n",
              "    </tr>\n",
              "    <tr>\n",
              "        <td colspan=\"2\" style=\"text-align:center;background-color:#92CCA6;color:black\"> Valid Minimum </td>\n",
              "        <td colspan=\"3\" style=\"text-align:center;background-color:#92CCA6;color:black\"> No Parameters at limit </td>\n",
              "    </tr>\n",
              "    <tr>\n",
              "        <td colspan=\"2\" style=\"text-align:center;background-color:#92CCA6;color:black\"> Below EDM threshold (goal x 10) </td>\n",
              "        <td colspan=\"3\" style=\"text-align:center;background-color:#92CCA6;color:black\"> Below call limit </td>\n",
              "    </tr>\n",
              "    <tr>\n",
              "        <td style=\"text-align:center;background-color:#92CCA6;color:black\"> Covariance </td>\n",
              "        <td style=\"text-align:center;background-color:#92CCA6;color:black\"> Hesse ok </td>\n",
              "        <td style=\"text-align:center;background-color:#92CCA6;color:black\" title=\"Is covariance matrix accurate?\"> Accurate </td>\n",
              "        <td style=\"text-align:center;background-color:#92CCA6;color:black\" title=\"Is covariance matrix positive definite?\"> Pos. def. </td>\n",
              "        <td style=\"text-align:center;background-color:#92CCA6;color:black\" title=\"Was positive definiteness enforced by Minuit?\"> Not forced </td>\n",
              "    </tr>\n",
              "</table><table>\n",
              "    <tr>\n",
              "        <td></td>\n",
              "        <th title=\"Variable name\"> Name </th>\n",
              "        <th title=\"Value of parameter\"> Value </th>\n",
              "        <th title=\"Hesse error\"> Hesse Error </th>\n",
              "        <th title=\"Minos lower error\"> Minos Error- </th>\n",
              "        <th title=\"Minos upper error\"> Minos Error+ </th>\n",
              "        <th title=\"Lower limit of the parameter\"> Limit- </th>\n",
              "        <th title=\"Upper limit of the parameter\"> Limit+ </th>\n",
              "        <th title=\"Is the parameter fixed in the fit\"> Fixed </th>\n",
              "    </tr>\n",
              "    <tr>\n",
              "        <th> 0 </th>\n",
              "        <td> a </td>\n",
              "        <td> 0.8 </td>\n",
              "        <td> 1.3 </td>\n",
              "        <td>  </td>\n",
              "        <td>  </td>\n",
              "        <td>  </td>\n",
              "        <td>  </td>\n",
              "        <td>  </td>\n",
              "    </tr>\n",
              "    <tr>\n",
              "        <th> 1 </th>\n",
              "        <td> b </td>\n",
              "        <td> -1.5 </td>\n",
              "        <td> 2.0 </td>\n",
              "        <td>  </td>\n",
              "        <td>  </td>\n",
              "        <td>  </td>\n",
              "        <td>  </td>\n",
              "        <td>  </td>\n",
              "    </tr>\n",
              "    <tr>\n",
              "        <th> 2 </th>\n",
              "        <td> c </td>\n",
              "        <td> 2.7 </td>\n",
              "        <td> 0.8 </td>\n",
              "        <td>  </td>\n",
              "        <td>  </td>\n",
              "        <td>  </td>\n",
              "        <td>  </td>\n",
              "        <td>  </td>\n",
              "    </tr>\n",
              "    <tr>\n",
              "        <th> 3 </th>\n",
              "        <td> d </td>\n",
              "        <td> 0.91 </td>\n",
              "        <td> 0.09 </td>\n",
              "        <td>  </td>\n",
              "        <td>  </td>\n",
              "        <td>  </td>\n",
              "        <td>  </td>\n",
              "        <td>  </td>\n",
              "    </tr>\n",
              "</table><table>\n",
              "    <tr>\n",
              "        <td></td>\n",
              "        <th> a </th>\n",
              "        <th> b </th>\n",
              "        <th> c </th>\n",
              "        <th> d </th>\n",
              "    </tr>\n",
              "    <tr>\n",
              "        <th> a </th>\n",
              "        <td> 1.72 </td>\n",
              "        <td style=\"background-color:rgb(122,122,250);color:black\"> -2.58 <strong>(-0.984)</strong> </td>\n",
              "        <td style=\"background-color:rgb(250,115,115);color:black\"> 0.979 <strong>(0.898)</strong> </td>\n",
              "        <td style=\"background-color:rgb(185,185,250);color:black\"> -0.0595 <strong>(-0.500)</strong> </td>\n",
              "    </tr>\n",
              "    <tr>\n",
              "        <th> b </th>\n",
              "        <td style=\"background-color:rgb(122,122,250);color:black\"> -2.58 <strong>(-0.984)</strong> </td>\n",
              "        <td> 4 </td>\n",
              "        <td style=\"background-color:rgb(125,125,250);color:black\"> -1.59 <strong>(-0.959)</strong> </td>\n",
              "        <td style=\"background-color:rgb(250,161,161);color:black\"> 0.108 <strong>(0.593)</strong> </td>\n",
              "    </tr>\n",
              "    <tr>\n",
              "        <th> c </th>\n",
              "        <td style=\"background-color:rgb(250,115,115);color:black\"> 0.979 <strong>(0.898)</strong> </td>\n",
              "        <td style=\"background-color:rgb(125,125,250);color:black\"> -1.59 <strong>(-0.959)</strong> </td>\n",
              "        <td> 0.691 </td>\n",
              "        <td style=\"background-color:rgb(152,152,250);color:black\"> -0.0572 <strong>(-0.758)</strong> </td>\n",
              "    </tr>\n",
              "    <tr>\n",
              "        <th> d </th>\n",
              "        <td style=\"background-color:rgb(185,185,250);color:black\"> -0.0595 <strong>(-0.500)</strong> </td>\n",
              "        <td style=\"background-color:rgb(250,161,161);color:black\"> 0.108 <strong>(0.593)</strong> </td>\n",
              "        <td style=\"background-color:rgb(152,152,250);color:black\"> -0.0572 <strong>(-0.758)</strong> </td>\n",
              "        <td> 0.00824 </td>\n",
              "    </tr>\n",
              "</table>"
            ],
            "text/plain": [
              "┌─────────────────────────────────────────────────────────────────────────┐\n",
              "│                                Migrad                                   │\n",
              "├──────────────────────────────────┬──────────────────────────────────────┤\n",
              "│ FCN = 9.033                      │              Nfcn = 96               │\n",
              "│ EDM = 8.56e-20 (Goal: 0.0002)    │                                      │\n",
              "├──────────────────────────────────┼──────────────────────────────────────┤\n",
              "│          Valid Minimum           │        No Parameters at limit        │\n",
              "├──────────────────────────────────┼──────────────────────────────────────┤\n",
              "│ Below EDM threshold (goal x 10)  │           Below call limit           │\n",
              "├───────────────┬──────────────────┼───────────┬─────────────┬────────────┤\n",
              "│  Covariance   │     Hesse ok     │ Accurate  │  Pos. def.  │ Not forced │\n",
              "└───────────────┴──────────────────┴───────────┴─────────────┴────────────┘\n",
              "┌───┬──────┬───────────┬───────────┬────────────┬────────────┬─────────┬─────────┬───────┐\n",
              "│   │ Name │   Value   │ Hesse Err │ Minos Err- │ Minos Err+ │ Limit-  │ Limit+  │ Fixed │\n",
              "├───┼──────┼───────────┼───────────┼────────────┼────────────┼─────────┼─────────┼───────┤\n",
              "│ 0 │ a    │    0.8    │    1.3    │            │            │         │         │       │\n",
              "│ 1 │ b    │   -1.5    │    2.0    │            │            │         │         │       │\n",
              "│ 2 │ c    │    2.7    │    0.8    │            │            │         │         │       │\n",
              "│ 3 │ d    │   0.91    │   0.09    │            │            │         │         │       │\n",
              "└───┴──────┴───────────┴───────────┴────────────┴────────────┴─────────┴─────────┴───────┘\n",
              "┌───┬─────────────────────────────────┐\n",
              "│   │       a       b       c       d │\n",
              "├───┼─────────────────────────────────┤\n",
              "│ a │    1.72   -2.58   0.979 -0.0595 │\n",
              "│ b │   -2.58       4   -1.59   0.108 │\n",
              "│ c │   0.979   -1.59   0.691 -0.0572 │\n",
              "│ d │ -0.0595   0.108 -0.0572 0.00824 │\n",
              "└───┴─────────────────────────────────┘"
            ]
          },
          "metadata": {},
          "execution_count": 16
        }
      ]
    },
    {
      "cell_type": "code",
      "metadata": {
        "colab": {
          "base_uri": "https://localhost:8080/"
        },
        "id": "l_5Tm9ExdCIU",
        "outputId": "c984b01c-c3d5-4a77-c45a-03ea28e4b4b3"
      },
      "source": [
        "m.values"
      ],
      "execution_count": 17,
      "outputs": [
        {
          "output_type": "execute_result",
          "data": {
            "text/plain": [
              "<ValueView a=0.7654754973599222 b=-1.5030492741091694 c=2.735440243275514 d=0.911937259682182>"
            ]
          },
          "metadata": {},
          "execution_count": 17
        }
      ]
    },
    {
      "cell_type": "code",
      "metadata": {
        "colab": {
          "base_uri": "https://localhost:8080/",
          "height": 281
        },
        "id": "JaW3tbG4dGZI",
        "outputId": "04ce5524-2c92-4187-9a1e-4033073e26fb"
      },
      "source": [
        "m.draw_mncontour('a','b', cl=[0.7, 0.8]);"
      ],
      "execution_count": 18,
      "outputs": [
        {
          "output_type": "display_data",
          "data": {
            "image/png": "[encoded data removed]",
            "text/plain": [
              "<Figure size 432x288 with 1 Axes>"
            ]
          },
          "metadata": {
            "needs_background": "light"
          }
        }
      ]
    },
    {
      "cell_type": "code",
      "metadata": {
        "colab": {
          "base_uri": "https://localhost:8080/"
        },
        "id": "WW3e8xq1dME2",
        "outputId": "7a0b0f33-1d18-491e-c8bd-7188261cca1a"
      },
      "source": [
        "# check reduced chi2, goodness-of-fit estimate, should be around 1\n",
        "m.fval / (len(y) - len(m.values))"
      ],
      "execution_count": 19,
      "outputs": [
        {
          "output_type": "execute_result",
          "data": {
            "text/plain": [
              "1.5055320143296285"
            ]
          },
          "metadata": {},
          "execution_count": 19
        }
      ]
    },
    {
      "cell_type": "markdown",
      "metadata": {
        "id": "-0MkLKo3wTE1"
      },
      "source": [
        "A função a ser minimizada é a dispersão de velocidades, já com a inserção dos termos oriundos da gravidade modificada.\n",
        "\n",
        "$\\sigma^2 = \\frac{G \\kappa r^{2 - \\beta}}{\\xi - 2\\beta} - \\frac{G Y_1 \\kappa (3-\\alpha)(2-\\alpha) r^{2 - \\alpha}}{4 (2\\beta - \\xi)} $\n",
        "\n",
        "em que:\n",
        "$\\kappa = \\frac{2 M_E}{\\sqrt{\\pi} \\lambda(\\alpha) R_E ^{3-\\alpha}} $,\n",
        "\n",
        "$M_E$ é a massa de um cilindro com raio igual ao raio de Einstein $\\theta_E$ e $R_E = D_l \\theta_E$,\n",
        "\n",
        "$\\lambda(x) = \\Gamma(\\frac{x-1}{2})/ \\Gamma(\\frac{x}{2})$,\n",
        "\n",
        "$\\xi = \\delta + \\alpha - 2$.\n",
        "\n",
        "Os parâmetros $\\alpha$ e $\\delta$ são as potências das expressões de densidade de massa e densidade de luminosidade, respectivamente.\n",
        "Já $\\beta$ é definido da seguinte forma:\n",
        "$\\beta(r) = 1 - \\frac{\\sigma_t ^2}{\\sigma_r ^2}$.\n",
        "\n",
        "Porém, consideraremos que $\\beta$ é constante.\n",
        "\n",
        "Logo, os parâmetros presentes na função que queremos minimizar são: $\\alpha$, $\\delta$, $\\beta$ e $\\theta_E$."
      ]
    },
    {
      "cell_type": "code",
      "metadata": {
        "id": "KDtTIp5tVozd"
      },
      "source": [
        "#alpha é a\n",
        "#Raio de Einstein é b (definido assim pra ficar em acordo com a forma que é chamado nos dados)\n",
        "#delta é c\n",
        "#beta é d\n",
        "#xi é e\n",
        "\n",
        "#Definindo as constantes:\n",
        "g = 6.67430*((10)**(-11))\n",
        "\n",
        "def LSQ_numpy(a, b, c, d):  # par is numpy array here  \n",
        "    par = [a, b, c, d] \n",
        "    ym = sigma2 = (g*k*r**(2-d))/(e-2*d) - (g*y*k*(3-a)*(2-a)*r**(2-a))/(4*(2*d - e))\n",
        "    return np.sum((y - ym) ** 2 / sigma_sigma ** 2)"
      ],
      "execution_count": 33,
      "outputs": []
    },
    {
      "cell_type": "code",
      "metadata": {
        "id": "OF7WZeAgmRsE"
      },
      "source": [
        "import pandas as pd"
      ],
      "execution_count": 34,
      "outputs": []
    },
    {
      "cell_type": "code",
      "metadata": {
        "colab": {
          "base_uri": "https://localhost:8080/"
        },
        "id": "_jB79a8EmvNc",
        "outputId": "6eda56bf-bfe2-4b47-feda-42f50f5cd830"
      },
      "source": [
        "from google.colab import drive\n",
        "drive.mount('/content/drive')"
      ],
      "execution_count": 35,
      "outputs": [
        {
          "output_type": "stream",
          "name": "stdout",
          "text": [
            "Drive already mounted at /content/drive; to attempt to forcibly remount, call drive.mount(\"/content/drive\", force_remount=True).\n"
          ]
        }
      ]
    },
    {
      "cell_type": "code",
      "metadata": {
        "id": "LtFo6OIUqu-K"
      },
      "source": [
        "lenses_DESc = pd.read_csv(\"/content/drive/MyDrive/lenses_DESc.txt\",\n",
        "                          sep=' ',\n",
        "                          comment='#',\n",
        "                          names=['id', 'zl', 'zs', 'b', 'sig_v', 'ql', 'rl', 'lens_g', 'lens_r', 'lens_i', 'xs', 'ys', 'qs', 'ps', 'rs', 'source_g', 'source_r', 'source_i', 'mu_s', 'g_band_coadd_seeing', 'g_band_coadd_signal_to_noise', 'r_band_coadd_seeing', 'r_band_coadd_signal_to_noise', 'i_band_coadd_seeing'])"
      ],
      "execution_count": 36,
      "outputs": []
    },
    {
      "cell_type": "code",
      "metadata": {
        "id": "dNcP8pRstUVl"
      },
      "source": [
        "#Testando operações com os dados\n",
        "lenses_DESc[\"zs\"]/lenses_DESc[\"zl\"]"
      ],
      "execution_count": null,
      "outputs": []
    },
    {
      "cell_type": "code",
      "metadata": {
        "colab": {
          "base_uri": "https://localhost:8080/"
        },
        "id": "S_QUK7-gmlGr",
        "outputId": "04ebce89-f3c8-40ce-ea74-f8c4bac16842"
      },
      "source": [
        "(lenses_DESc[\"sig_v\"])**2"
      ],
      "execution_count": 38,
      "outputs": [
        {
          "output_type": "execute_result",
          "data": {
            "text/plain": [
              "0         70284.372544\n",
              "1         70047.562225\n",
              "2        101491.942084\n",
              "3         66091.154724\n",
              "4         58884.360921\n",
              "             ...      \n",
              "18593     57210.420969\n",
              "18594    105483.347524\n",
              "18595     80496.470961\n",
              "18596     57259.704100\n",
              "18597     62282.689225\n",
              "Name: sig_v, Length: 18598, dtype: float64"
            ]
          },
          "metadata": {},
          "execution_count": 38
        }
      ]
    },
    {
      "cell_type": "code",
      "metadata": {
        "id": "caIzPM_gm_OK"
      },
      "source": [
        "lista1 = (lenses_DESc[\"sig_v\"])**2"
      ],
      "execution_count": 39,
      "outputs": []
    },
    {
      "cell_type": "markdown",
      "metadata": {
        "id": "hU6dW92xsuqQ"
      },
      "source": [
        "Criando uma nova coluna:"
      ]
    },
    {
      "cell_type": "code",
      "metadata": {
        "id": "SvDj9-RNpmbs"
      },
      "source": [
        "lenses_DESc[\"sig2\"] = lista1"
      ],
      "execution_count": 40,
      "outputs": []
    },
    {
      "cell_type": "code",
      "metadata": {
        "id": "ZAeUKJG5roTk"
      },
      "source": [
        "m1 = Minuit(LSQ_numpy, a = 1., b = 1.497, c = 1., d = 1.)"
      ],
      "execution_count": 41,
      "outputs": []
    },
    {
      "cell_type": "code",
      "metadata": {
        "colab": {
          "base_uri": "https://localhost:8080/",
          "height": 306
        },
        "id": "Luj3FEebr-h5",
        "outputId": "a68bdda3-422e-4142-8cb4-1aefea4bc021"
      },
      "source": [
        "m1.migrad()"
      ],
      "execution_count": 42,
      "outputs": [
        {
          "output_type": "error",
          "ename": "NameError",
          "evalue": "ignored",
          "traceback": [
            "\u001b[0;31m---------------------------------------------------------------------------\u001b[0m",
            "\u001b[0;31mNameError\u001b[0m                                 Traceback (most recent call last)",
            "\u001b[0;32m<ipython-input-42-8af720ee10f4>\u001b[0m in \u001b[0;36m<module>\u001b[0;34m()\u001b[0m\n\u001b[0;32m----> 1\u001b[0;31m \u001b[0mm1\u001b[0m\u001b[0;34m.\u001b[0m\u001b[0mmigrad\u001b[0m\u001b[0;34m(\u001b[0m\u001b[0;34m)\u001b[0m\u001b[0;34m\u001b[0m\u001b[0;34m\u001b[0m\u001b[0m\n\u001b[0m",
            "\u001b[0;32m/usr/local/lib/python3.7/dist-packages/iminuit/minuit.py\u001b[0m in \u001b[0;36mmigrad\u001b[0;34m(self, ncall, iterate)\u001b[0m\n\u001b[1;32m    681\u001b[0m             \u001b[0;32mif\u001b[0m \u001b[0mself\u001b[0m\u001b[0;34m.\u001b[0m\u001b[0m_precision\u001b[0m \u001b[0;32mis\u001b[0m \u001b[0;32mnot\u001b[0m \u001b[0;32mNone\u001b[0m\u001b[0;34m:\u001b[0m\u001b[0;34m\u001b[0m\u001b[0;34m\u001b[0m\u001b[0m\n\u001b[1;32m    682\u001b[0m                 \u001b[0mmigrad\u001b[0m\u001b[0;34m.\u001b[0m\u001b[0mprecision\u001b[0m \u001b[0;34m=\u001b[0m \u001b[0mself\u001b[0m\u001b[0;34m.\u001b[0m\u001b[0m_precision\u001b[0m\u001b[0;34m\u001b[0m\u001b[0;34m\u001b[0m\u001b[0m\n\u001b[0;32m--> 683\u001b[0;31m             \u001b[0mfm\u001b[0m \u001b[0;34m=\u001b[0m \u001b[0mmigrad\u001b[0m\u001b[0;34m(\u001b[0m\u001b[0mncall\u001b[0m\u001b[0;34m,\u001b[0m \u001b[0mself\u001b[0m\u001b[0;34m.\u001b[0m\u001b[0m_tolerance\u001b[0m\u001b[0;34m)\u001b[0m\u001b[0;34m\u001b[0m\u001b[0;34m\u001b[0m\u001b[0m\n\u001b[0m\u001b[1;32m    684\u001b[0m             \u001b[0;32mif\u001b[0m \u001b[0mfm\u001b[0m\u001b[0;34m.\u001b[0m\u001b[0mis_valid\u001b[0m \u001b[0;32mor\u001b[0m \u001b[0mfm\u001b[0m\u001b[0;34m.\u001b[0m\u001b[0mhas_reached_call_limit\u001b[0m\u001b[0;34m:\u001b[0m\u001b[0;34m\u001b[0m\u001b[0;34m\u001b[0m\u001b[0m\n\u001b[1;32m    685\u001b[0m                 \u001b[0;32mbreak\u001b[0m\u001b[0;34m\u001b[0m\u001b[0;34m\u001b[0m\u001b[0m\n",
            "\u001b[0;32m<ipython-input-33-a15e4d16dda7>\u001b[0m in \u001b[0;36mLSQ_numpy\u001b[0;34m(a, b, c, d)\u001b[0m\n\u001b[1;32m      9\u001b[0m \u001b[0;32mdef\u001b[0m \u001b[0mLSQ_numpy\u001b[0m\u001b[0;34m(\u001b[0m\u001b[0ma\u001b[0m\u001b[0;34m,\u001b[0m \u001b[0mb\u001b[0m\u001b[0;34m,\u001b[0m \u001b[0mc\u001b[0m\u001b[0;34m,\u001b[0m \u001b[0md\u001b[0m\u001b[0;34m)\u001b[0m\u001b[0;34m:\u001b[0m  \u001b[0;31m# par is numpy array here\u001b[0m\u001b[0;34m\u001b[0m\u001b[0;34m\u001b[0m\u001b[0m\n\u001b[1;32m     10\u001b[0m     \u001b[0mpar\u001b[0m \u001b[0;34m=\u001b[0m \u001b[0;34m[\u001b[0m\u001b[0ma\u001b[0m\u001b[0;34m,\u001b[0m \u001b[0mb\u001b[0m\u001b[0;34m,\u001b[0m \u001b[0mc\u001b[0m\u001b[0;34m,\u001b[0m \u001b[0md\u001b[0m\u001b[0;34m]\u001b[0m\u001b[0;34m\u001b[0m\u001b[0;34m\u001b[0m\u001b[0m\n\u001b[0;32m---> 11\u001b[0;31m     \u001b[0mym\u001b[0m \u001b[0;34m=\u001b[0m \u001b[0msigma2\u001b[0m \u001b[0;34m=\u001b[0m \u001b[0;34m(\u001b[0m\u001b[0mg\u001b[0m\u001b[0;34m*\u001b[0m\u001b[0mk\u001b[0m\u001b[0;34m*\u001b[0m\u001b[0mr\u001b[0m\u001b[0;34m**\u001b[0m\u001b[0;34m(\u001b[0m\u001b[0;36m2\u001b[0m\u001b[0;34m-\u001b[0m\u001b[0md\u001b[0m\u001b[0;34m)\u001b[0m\u001b[0;34m)\u001b[0m\u001b[0;34m/\u001b[0m\u001b[0;34m(\u001b[0m\u001b[0me\u001b[0m\u001b[0;34m-\u001b[0m\u001b[0;36m2\u001b[0m\u001b[0;34m*\u001b[0m\u001b[0md\u001b[0m\u001b[0;34m)\u001b[0m \u001b[0;34m-\u001b[0m \u001b[0;34m(\u001b[0m\u001b[0mg\u001b[0m\u001b[0;34m*\u001b[0m\u001b[0my\u001b[0m\u001b[0;34m*\u001b[0m\u001b[0mk\u001b[0m\u001b[0;34m*\u001b[0m\u001b[0;34m(\u001b[0m\u001b[0;36m3\u001b[0m\u001b[0;34m-\u001b[0m\u001b[0ma\u001b[0m\u001b[0;34m)\u001b[0m\u001b[0;34m*\u001b[0m\u001b[0;34m(\u001b[0m\u001b[0;36m2\u001b[0m\u001b[0;34m-\u001b[0m\u001b[0ma\u001b[0m\u001b[0;34m)\u001b[0m\u001b[0;34m*\u001b[0m\u001b[0mr\u001b[0m\u001b[0;34m**\u001b[0m\u001b[0;34m(\u001b[0m\u001b[0;36m2\u001b[0m\u001b[0;34m-\u001b[0m\u001b[0ma\u001b[0m\u001b[0;34m)\u001b[0m\u001b[0;34m)\u001b[0m\u001b[0;34m/\u001b[0m\u001b[0;34m(\u001b[0m\u001b[0;36m4\u001b[0m\u001b[0;34m*\u001b[0m\u001b[0;34m(\u001b[0m\u001b[0;36m2\u001b[0m\u001b[0;34m*\u001b[0m\u001b[0md\u001b[0m \u001b[0;34m-\u001b[0m \u001b[0me\u001b[0m\u001b[0;34m)\u001b[0m\u001b[0;34m)\u001b[0m\u001b[0;34m\u001b[0m\u001b[0;34m\u001b[0m\u001b[0m\n\u001b[0m\u001b[1;32m     12\u001b[0m     \u001b[0;32mreturn\u001b[0m \u001b[0mnp\u001b[0m\u001b[0;34m.\u001b[0m\u001b[0msum\u001b[0m\u001b[0;34m(\u001b[0m\u001b[0;34m(\u001b[0m\u001b[0my\u001b[0m \u001b[0;34m-\u001b[0m \u001b[0mym\u001b[0m\u001b[0;34m)\u001b[0m \u001b[0;34m**\u001b[0m \u001b[0;36m2\u001b[0m \u001b[0;34m/\u001b[0m \u001b[0msigma_sigma\u001b[0m \u001b[0;34m**\u001b[0m \u001b[0;36m2\u001b[0m\u001b[0;34m)\u001b[0m\u001b[0;34m\u001b[0m\u001b[0;34m\u001b[0m\u001b[0m\n",
            "\u001b[0;31mNameError\u001b[0m: name 'k' is not defined"
          ]
        }
      ]
    }
  ]
}