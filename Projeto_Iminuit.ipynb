{
  "nbformat": 4,
  "nbformat_minor": 0,
  "metadata": {
    "colab": {
      "name": "Projeto - Iminuit.ipynb",
      "provenance": [],
      "collapsed_sections": [],
      "include_colab_link": true
    },
    "kernelspec": {
      "name": "python3",
      "display_name": "Python 3"
    },
    "language_info": {
      "name": "python"
    }
  },
  "cells": [
    {
      "cell_type": "markdown",
      "metadata": {
        "id": "view-in-github",
        "colab_type": "text"
      },
      "source": [
        "<a href=\"https://colab.research.google.com/github/fernanda0402/Big-Data-Astro/blob/main/Projeto_Iminuit.ipynb\" target=\"_parent\"><img src=\"https://colab.research.google.com/assets/colab-badge.svg\" alt=\"Open In Colab\"/></a>"
      ]
    },
    {
      "cell_type": "markdown",
      "source": [
        "## **Trabalho final da disciplina de Big Data e Astroinformática**\n",
        "\n",
        "Nome: Fernanda Araujo de Oliveira\n",
        "\n",
        "Professor: Clécio deBom\n",
        "\n",
        "*Análise Bayesiana da expressão da dispersão de velocidades com termos de gravidade modificada utilizando o Iminuit.*"
      ],
      "metadata": {
        "id": "Fpc_c8ON_0_O"
      }
    },
    {
      "cell_type": "markdown",
      "metadata": {
        "id": "WsH0EfgbKVKC"
      },
      "source": [
        "Primeiramente, vamos refazer os exemplos dados em https://indico.cern.ch/event/833895/contributions/3577808/attachments/1927550/3191336/iminuit_intro.html a fim de entender melhor o programa."
      ]
    },
    {
      "cell_type": "code",
      "metadata": {
        "colab": {
          "base_uri": "https://localhost:8080/"
        },
        "id": "xhNB8vAxzIaT",
        "outputId": "c7b04fd8-623e-4770-cef5-6fa312b93ecf"
      },
      "source": [
        "# !pip install iminuit matplotlib numpy\n",
        "%matplotlib inline\n",
        "from matplotlib import pyplot as plt\n",
        "plt.rcParams[\"font.size\"] = 20\n",
        "import numpy as np\n",
        "!pip3 install iminuit"
      ],
      "execution_count": null,
      "outputs": [
        {
          "output_type": "stream",
          "name": "stdout",
          "text": [
            "Requirement already satisfied: iminuit in /usr/local/lib/python3.7/dist-packages (2.8.4)\n",
            "Requirement already satisfied: numpy in /usr/local/lib/python3.7/dist-packages (from iminuit) (1.19.5)\n"
          ]
        }
      ]
    },
    {
      "cell_type": "markdown",
      "metadata": {
        "id": "PD0xd9MhzpXA"
      },
      "source": [
        "Exemplo 1: Vamos usar um modelo de função linear."
      ]
    },
    {
      "cell_type": "code",
      "metadata": {
        "colab": {
          "base_uri": "https://localhost:8080/",
          "height": 274
        },
        "id": "yASwSLtzzohU",
        "outputId": "02de8a1f-149c-492d-c244-5701421bea42"
      },
      "source": [
        "# let's make a line model\n",
        "def line(x, a, b):\n",
        "    return a + (x * b)\n",
        "\n",
        "a_true = 1.0\n",
        "b_true = 2.0\n",
        "\n",
        "# let's make some data\n",
        "x = np.linspace(0, 1, 10)\n",
        "\n",
        "# precomputed random numbers from standard normal distribution\n",
        "z = np.array([-0.49783783, -0.33041722, -1.71800806,  1.60229399,\n",
        "                 1.36682387, -1.15424221, -0.91425267, -0.03395604,\n",
        "                 -1.27611719, -0.7004073 ])\n",
        "\n",
        "sigma_y = 0.1 * np.ones_like(x)\n",
        "y = line(x, a_true, b_true) + sigma_y * z\n",
        "\n",
        "plt.errorbar(x, y, sigma_y, fmt=\"o\")\n",
        "plt.xlim(-0.1, 1.1);"
      ],
      "execution_count": null,
      "outputs": [
        {
          "output_type": "display_data",
          "data": {
            "image/png": "[encoded data removed]",
            "text/plain": [
              "<Figure size 432x288 with 1 Axes>"
            ]
          },
          "metadata": {
            "needs_background": "light"
          }
        }
      ]
    },
    {
      "cell_type": "markdown",
      "metadata": {
        "id": "4bq28tBPzzhH"
      },
      "source": [
        "*   Estimar os valores dos parâmetros (a,b) a partir dos dados;\n",
        "*   Precisamos de um valor mínimo para o qual o modelo melhor concorda com os dados: método dos mínimos quadrados ou método da máxima likelihood;\n",
        "*   O MINUIT sempre minimiza;\n",
        "*   Usar o IMINUIT para minimizar numericamente como função dos parâmetros do modelo.\n",
        "\n",
        "\n",
        "\n"
      ]
    },
    {
      "cell_type": "code",
      "metadata": {
        "id": "hzAk15tk0wCK"
      },
      "source": [
        "# least-squares score function = sum of data residuals squared\n",
        "def LSQ(a, b):\n",
        "    return np.sum((y - line(x, a, b)) ** 2 / sigma_y ** 2)"
      ],
      "execution_count": null,
      "outputs": []
    },
    {
      "cell_type": "code",
      "metadata": {
        "id": "BV0JgYox0ycf"
      },
      "source": [
        "# everything in iminuit is done through the Minuit object, so we import it\n",
        "from iminuit import Minuit"
      ],
      "execution_count": null,
      "outputs": []
    },
    {
      "cell_type": "markdown",
      "metadata": {
        "id": "w7_bGJzr6JQM"
      },
      "source": [
        "\n",
        "\n",
        "*   MINUIT busca por mínimos locais usando o método \"gradiente-descendente\" a partir do ponto de partida;\n",
        "*   Se a função possui muitos mínimos, o mínimo encontrado vai depender do ponto de partida;\n",
        "*   Se a função possui só um mínimo, o IMINUIT vai convergir mais rapidamente se começar mais próximo desse;\n",
        "*   Se não for fornecido um ponto de partida, o IMINUIT começará do zero (o que pode ser ruim)."
      ]
    },
    {
      "cell_type": "code",
      "metadata": {
        "id": "vHYgAKTs6JaZ"
      },
      "source": [
        "# set start values via keywords for a and b\n",
        "m = Minuit(LSQ, a=5, b=5)"
      ],
      "execution_count": null,
      "outputs": []
    },
    {
      "cell_type": "code",
      "metadata": {
        "id": "zXt8p1vm9N66"
      },
      "source": [
        "# set step size with error_<name>=... keyword\n",
        "m = Minuit(LSQ, a=5, b=5)\n",
        "\n",
        "m.limits['a'] = (0,10)\n",
        "m.limits['b'] = (0,10)"
      ],
      "execution_count": null,
      "outputs": []
    },
    {
      "cell_type": "code",
      "metadata": {
        "id": "YohT1kg_N1jq",
        "colab": {
          "base_uri": "https://localhost:8080/",
          "height": 316
        },
        "outputId": "a3c9f7e5-0138-431d-d139-2380126ed7f0"
      },
      "source": [
        "m.migrad()"
      ],
      "execution_count": null,
      "outputs": [
        {
          "output_type": "stream",
          "name": "stderr",
          "text": [
            "/usr/local/lib/python3.7/dist-packages/ipykernel_launcher.py:1: IMinuitWarning: errordef not set, using 1 (appropriate for least-squares)\n",
            "  \"\"\"Entry point for launching an IPython kernel.\n"
          ]
        },
        {
          "output_type": "execute_result",
          "data": {
            "text/html": [
              "<table>\n",
              "    <tr>\n",
              "        <th colspan=\"5\" style=\"text-align:center\" title=\"Minimizer\"> Migrad </th>\n",
              "    </tr>\n",
              "    <tr>\n",
              "        <td colspan=\"2\" style=\"text-align:left\" title=\"Minimum value of function\"> FCN = 10.39 </td>\n",
              "        <td colspan=\"3\" style=\"text-align:center\" title=\"No. of function evaluations in last call and total number\"> Nfcn = 75 </td>\n",
              "    </tr>\n",
              "    <tr>\n",
              "        <td colspan=\"2\" style=\"text-align:left\" title=\"Estimated distance to minimum and goal\"> EDM = 9.63e-08 (Goal: 0.0002) </td>\n",
              "        <td colspan=\"3\" style=\"text-align:center\" title=\"No. of gradient evaluations in last call and total number\">  </td>\n",
              "    </tr>\n",
              "    <tr>\n",
              "        <td colspan=\"2\" style=\"text-align:center;background-color:#92CCA6;color:black\"> Valid Minimum </td>\n",
              "        <td colspan=\"3\" style=\"text-align:center;background-color:#92CCA6;color:black\"> No Parameters at limit </td>\n",
              "    </tr>\n",
              "    <tr>\n",
              "        <td colspan=\"2\" style=\"text-align:center;background-color:#92CCA6;color:black\"> Below EDM threshold (goal x 10) </td>\n",
              "        <td colspan=\"3\" style=\"text-align:center;background-color:#92CCA6;color:black\"> Below call limit </td>\n",
              "    </tr>\n",
              "    <tr>\n",
              "        <td style=\"text-align:center;background-color:#92CCA6;color:black\"> Covariance </td>\n",
              "        <td style=\"text-align:center;background-color:#92CCA6;color:black\"> Hesse ok </td>\n",
              "        <td style=\"text-align:center;background-color:#92CCA6;color:black\" title=\"Is covariance matrix accurate?\"> Accurate </td>\n",
              "        <td style=\"text-align:center;background-color:#92CCA6;color:black\" title=\"Is covariance matrix positive definite?\"> Pos. def. </td>\n",
              "        <td style=\"text-align:center;background-color:#92CCA6;color:black\" title=\"Was positive definiteness enforced by Minuit?\"> Not forced </td>\n",
              "    </tr>\n",
              "</table><table>\n",
              "    <tr>\n",
              "        <td></td>\n",
              "        <th title=\"Variable name\"> Name </th>\n",
              "        <th title=\"Value of parameter\"> Value </th>\n",
              "        <th title=\"Hesse error\"> Hesse Error </th>\n",
              "        <th title=\"Minos lower error\"> Minos Error- </th>\n",
              "        <th title=\"Minos upper error\"> Minos Error+ </th>\n",
              "        <th title=\"Lower limit of the parameter\"> Limit- </th>\n",
              "        <th title=\"Upper limit of the parameter\"> Limit+ </th>\n",
              "        <th title=\"Is the parameter fixed in the fit\"> Fixed </th>\n",
              "    </tr>\n",
              "    <tr>\n",
              "        <th> 0 </th>\n",
              "        <td> a </td>\n",
              "        <td> 0.99 </td>\n",
              "        <td> 0.06 </td>\n",
              "        <td>  </td>\n",
              "        <td>  </td>\n",
              "        <td> 0 </td>\n",
              "        <td> 10 </td>\n",
              "        <td>  </td>\n",
              "    </tr>\n",
              "    <tr>\n",
              "        <th> 1 </th>\n",
              "        <td> b </td>\n",
              "        <td> 1.94 </td>\n",
              "        <td> 0.10 </td>\n",
              "        <td>  </td>\n",
              "        <td>  </td>\n",
              "        <td> 0 </td>\n",
              "        <td> 10 </td>\n",
              "        <td>  </td>\n",
              "    </tr>\n",
              "</table><table>\n",
              "    <tr>\n",
              "        <td></td>\n",
              "        <th> a </th>\n",
              "        <th> b </th>\n",
              "    </tr>\n",
              "    <tr>\n",
              "        <th> a </th>\n",
              "        <td> 0.00345 </td>\n",
              "        <td style=\"background-color:rgb(140,140,250);color:black\"> -0.00491 <strong>(-0.843)</strong> </td>\n",
              "    </tr>\n",
              "    <tr>\n",
              "        <th> b </th>\n",
              "        <td style=\"background-color:rgb(140,140,250);color:black\"> -0.00491 <strong>(-0.843)</strong> </td>\n",
              "        <td> 0.00982 </td>\n",
              "    </tr>\n",
              "</table>"
            ],
            "text/plain": [
              "┌─────────────────────────────────────────────────────────────────────────┐\n",
              "│                                Migrad                                   │\n",
              "├──────────────────────────────────┬──────────────────────────────────────┤\n",
              "│ FCN = 10.39                      │              Nfcn = 75               │\n",
              "│ EDM = 9.63e-08 (Goal: 0.0002)    │                                      │\n",
              "├──────────────────────────────────┼──────────────────────────────────────┤\n",
              "│          Valid Minimum           │        No Parameters at limit        │\n",
              "├──────────────────────────────────┼──────────────────────────────────────┤\n",
              "│ Below EDM threshold (goal x 10)  │           Below call limit           │\n",
              "├───────────────┬──────────────────┼───────────┬─────────────┬────────────┤\n",
              "│  Covariance   │     Hesse ok     │ Accurate  │  Pos. def.  │ Not forced │\n",
              "└───────────────┴──────────────────┴───────────┴─────────────┴────────────┘\n",
              "┌───┬──────┬───────────┬───────────┬────────────┬────────────┬─────────┬─────────┬───────┐\n",
              "│   │ Name │   Value   │ Hesse Err │ Minos Err- │ Minos Err+ │ Limit-  │ Limit+  │ Fixed │\n",
              "├───┼──────┼───────────┼───────────┼────────────┼────────────┼─────────┼─────────┼───────┤\n",
              "│ 0 │ a    │   0.99    │   0.06    │            │            │    0    │   10    │       │\n",
              "│ 1 │ b    │   1.94    │   0.10    │            │            │    0    │   10    │       │\n",
              "└───┴──────┴───────────┴───────────┴────────────┴────────────┴─────────┴─────────┴───────┘\n",
              "┌───┬───────────────────┐\n",
              "│   │        a        b │\n",
              "├───┼───────────────────┤\n",
              "│ a │  0.00345 -0.00491 │\n",
              "│ b │ -0.00491  0.00982 │\n",
              "└───┴───────────────────┘"
            ]
          },
          "metadata": {},
          "execution_count": 65
        }
      ]
    },
    {
      "cell_type": "code",
      "metadata": {
        "id": "5eGc6uJBONJp",
        "colab": {
          "base_uri": "https://localhost:8080/",
          "height": 274
        },
        "outputId": "dc85e509-ae25-4f27-b115-445811de2564"
      },
      "source": [
        "# get parameter values\n",
        "a_fit = m.values[\"a\"]  # m.values[0] also works\n",
        "b_fit = m.values[\"b\"]  # m.values[1] also works\n",
        "\n",
        "plt.errorbar(x, y, sigma_y, fmt=\"o\")\n",
        "plt.plot(x, line(x, a_fit, b_fit));"
      ],
      "execution_count": null,
      "outputs": [
        {
          "output_type": "display_data",
          "data": {
            "image/png": "[encoded data removed]",
            "text/plain": [
              "<Figure size 432x288 with 1 Axes>"
            ]
          },
          "metadata": {
            "needs_background": "light"
          }
        }
      ]
    },
    {
      "cell_type": "code",
      "metadata": {
        "id": "WlA_gTG8OQHx",
        "colab": {
          "base_uri": "https://localhost:8080/",
          "height": 279
        },
        "outputId": "99520e9a-bc24-4c32-c55b-04530a79eb4f"
      },
      "source": [
        "# release fix on \"a\" and minimize again\n",
        "m.fixed[\"a\"] = False  # m.fixed[0] = False also works\n",
        "m.migrad()"
      ],
      "execution_count": null,
      "outputs": [
        {
          "output_type": "execute_result",
          "data": {
            "text/html": [
              "<table>\n",
              "    <tr>\n",
              "        <th colspan=\"5\" style=\"text-align:center\" title=\"Minimizer\"> Migrad </th>\n",
              "    </tr>\n",
              "    <tr>\n",
              "        <td colspan=\"2\" style=\"text-align:left\" title=\"Minimum value of function\"> FCN = 10.39 </td>\n",
              "        <td colspan=\"3\" style=\"text-align:center\" title=\"No. of function evaluations in last call and total number\"> Nfcn = 89 </td>\n",
              "    </tr>\n",
              "    <tr>\n",
              "        <td colspan=\"2\" style=\"text-align:left\" title=\"Estimated distance to minimum and goal\"> EDM = 7.94e-16 (Goal: 0.0002) </td>\n",
              "        <td colspan=\"3\" style=\"text-align:center\" title=\"No. of gradient evaluations in last call and total number\">  </td>\n",
              "    </tr>\n",
              "    <tr>\n",
              "        <td colspan=\"2\" style=\"text-align:center;background-color:#92CCA6;color:black\"> Valid Minimum </td>\n",
              "        <td colspan=\"3\" style=\"text-align:center;background-color:#92CCA6;color:black\"> No Parameters at limit </td>\n",
              "    </tr>\n",
              "    <tr>\n",
              "        <td colspan=\"2\" style=\"text-align:center;background-color:#92CCA6;color:black\"> Below EDM threshold (goal x 10) </td>\n",
              "        <td colspan=\"3\" style=\"text-align:center;background-color:#92CCA6;color:black\"> Below call limit </td>\n",
              "    </tr>\n",
              "    <tr>\n",
              "        <td style=\"text-align:center;background-color:#92CCA6;color:black\"> Covariance </td>\n",
              "        <td style=\"text-align:center;background-color:#92CCA6;color:black\"> Hesse ok </td>\n",
              "        <td style=\"text-align:center;background-color:#92CCA6;color:black\" title=\"Is covariance matrix accurate?\"> Accurate </td>\n",
              "        <td style=\"text-align:center;background-color:#92CCA6;color:black\" title=\"Is covariance matrix positive definite?\"> Pos. def. </td>\n",
              "        <td style=\"text-align:center;background-color:#92CCA6;color:black\" title=\"Was positive definiteness enforced by Minuit?\"> Not forced </td>\n",
              "    </tr>\n",
              "</table><table>\n",
              "    <tr>\n",
              "        <td></td>\n",
              "        <th title=\"Variable name\"> Name </th>\n",
              "        <th title=\"Value of parameter\"> Value </th>\n",
              "        <th title=\"Hesse error\"> Hesse Error </th>\n",
              "        <th title=\"Minos lower error\"> Minos Error- </th>\n",
              "        <th title=\"Minos upper error\"> Minos Error+ </th>\n",
              "        <th title=\"Lower limit of the parameter\"> Limit- </th>\n",
              "        <th title=\"Upper limit of the parameter\"> Limit+ </th>\n",
              "        <th title=\"Is the parameter fixed in the fit\"> Fixed </th>\n",
              "    </tr>\n",
              "    <tr>\n",
              "        <th> 0 </th>\n",
              "        <td> a </td>\n",
              "        <td> 0.99 </td>\n",
              "        <td> 0.06 </td>\n",
              "        <td>  </td>\n",
              "        <td>  </td>\n",
              "        <td> 0 </td>\n",
              "        <td> 10 </td>\n",
              "        <td>  </td>\n",
              "    </tr>\n",
              "    <tr>\n",
              "        <th> 1 </th>\n",
              "        <td> b </td>\n",
              "        <td> 1.94 </td>\n",
              "        <td> 0.10 </td>\n",
              "        <td>  </td>\n",
              "        <td>  </td>\n",
              "        <td> 0 </td>\n",
              "        <td> 10 </td>\n",
              "        <td>  </td>\n",
              "    </tr>\n",
              "</table><table>\n",
              "    <tr>\n",
              "        <td></td>\n",
              "        <th> a </th>\n",
              "        <th> b </th>\n",
              "    </tr>\n",
              "    <tr>\n",
              "        <th> a </th>\n",
              "        <td> 0.00345 </td>\n",
              "        <td style=\"background-color:rgb(140,140,250);color:black\"> -0.00491 <strong>(-0.843)</strong> </td>\n",
              "    </tr>\n",
              "    <tr>\n",
              "        <th> b </th>\n",
              "        <td style=\"background-color:rgb(140,140,250);color:black\"> -0.00491 <strong>(-0.843)</strong> </td>\n",
              "        <td> 0.00982 </td>\n",
              "    </tr>\n",
              "</table>"
            ],
            "text/plain": [
              "┌─────────────────────────────────────────────────────────────────────────┐\n",
              "│                                Migrad                                   │\n",
              "├──────────────────────────────────┬──────────────────────────────────────┤\n",
              "│ FCN = 10.39                      │              Nfcn = 89               │\n",
              "│ EDM = 7.94e-16 (Goal: 0.0002)    │                                      │\n",
              "├──────────────────────────────────┼──────────────────────────────────────┤\n",
              "│          Valid Minimum           │        No Parameters at limit        │\n",
              "├──────────────────────────────────┼──────────────────────────────────────┤\n",
              "│ Below EDM threshold (goal x 10)  │           Below call limit           │\n",
              "├───────────────┬──────────────────┼───────────┬─────────────┬────────────┤\n",
              "│  Covariance   │     Hesse ok     │ Accurate  │  Pos. def.  │ Not forced │\n",
              "└───────────────┴──────────────────┴───────────┴─────────────┴────────────┘\n",
              "┌───┬──────┬───────────┬───────────┬────────────┬────────────┬─────────┬─────────┬───────┐\n",
              "│   │ Name │   Value   │ Hesse Err │ Minos Err- │ Minos Err+ │ Limit-  │ Limit+  │ Fixed │\n",
              "├───┼──────┼───────────┼───────────┼────────────┼────────────┼─────────┼─────────┼───────┤\n",
              "│ 0 │ a    │   0.99    │   0.06    │            │            │    0    │   10    │       │\n",
              "│ 1 │ b    │   1.94    │   0.10    │            │            │    0    │   10    │       │\n",
              "└───┴──────┴───────────┴───────────┴────────────┴────────────┴─────────┴─────────┴───────┘\n",
              "┌───┬───────────────────┐\n",
              "│   │        a        b │\n",
              "├───┼───────────────────┤\n",
              "│ a │  0.00345 -0.00491 │\n",
              "│ b │ -0.00491  0.00982 │\n",
              "└───┴───────────────────┘"
            ]
          },
          "metadata": {},
          "execution_count": 67
        }
      ]
    },
    {
      "cell_type": "code",
      "metadata": {
        "id": "GMFy71StOVOT",
        "colab": {
          "base_uri": "https://localhost:8080/",
          "height": 274
        },
        "outputId": "9c6bc9ae-6214-4dd8-e4a6-72e36ccebc7c"
      },
      "source": [
        "# get better parameter values\n",
        "a_fit = m.values[\"a\"]\n",
        "b_fit = m.values[\"b\"]\n",
        "\n",
        "plt.errorbar(x, y, sigma_y, fmt=\"o\")\n",
        "plt.plot(x, line(x, a_fit, b_fit))\n",
        "plt.xlim(-0.1, 1.1);"
      ],
      "execution_count": null,
      "outputs": [
        {
          "output_type": "display_data",
          "data": {
            "image/png": "[encoded data removed]",
            "text/plain": [
              "<Figure size 432x288 with 1 Axes>"
            ]
          },
          "metadata": {
            "needs_background": "light"
          }
        }
      ]
    },
    {
      "cell_type": "markdown",
      "metadata": {
        "id": "mwujxjx1O0nc"
      },
      "source": [
        "Exemplo 2: Ajuste de modelo com número flexível de parâmetros:\n",
        "\n",
        "\n",
        "\n",
        "*   Modelo com número maior ou variável de parâmetros.\n"
      ]
    },
    {
      "cell_type": "code",
      "metadata": {
        "id": "Q4BhBhT-c5gQ"
      },
      "source": [
        "def LSQ_numpy(a, b, c, d):  # par is numpy array here  \n",
        "    par = [a, b, c, d] \n",
        "    ym = np.polyval(par, x)  # for len(par) == 2 this is a line \n",
        "    return np.sum((y - ym) ** 2 / sigma_y ** 2) #y é o que vem dos dados e ym o que vem da teoria"
      ],
      "execution_count": null,
      "outputs": []
    },
    {
      "cell_type": "code",
      "metadata": {
        "id": "L--aPBahc9W0"
      },
      "source": [
        "m = Minuit(LSQ_numpy, a = 1., b = 1., c = 1., d = 1.)"
      ],
      "execution_count": null,
      "outputs": []
    },
    {
      "cell_type": "code",
      "metadata": {
        "id": "fBBKRrJPc_Ir",
        "colab": {
          "base_uri": "https://localhost:8080/",
          "height": 402
        },
        "outputId": "177051a0-f77d-475a-9ffa-a256776e4015"
      },
      "source": [
        "m.migrad()"
      ],
      "execution_count": null,
      "outputs": [
        {
          "output_type": "stream",
          "name": "stderr",
          "text": [
            "/usr/local/lib/python3.7/dist-packages/ipykernel_launcher.py:1: IMinuitWarning: errordef not set, using 1 (appropriate for least-squares)\n",
            "  \"\"\"Entry point for launching an IPython kernel.\n"
          ]
        },
        {
          "output_type": "execute_result",
          "data": {
            "text/html": [
              "<table>\n",
              "    <tr>\n",
              "        <th colspan=\"5\" style=\"text-align:center\" title=\"Minimizer\"> Migrad </th>\n",
              "    </tr>\n",
              "    <tr>\n",
              "        <td colspan=\"2\" style=\"text-align:left\" title=\"Minimum value of function\"> FCN = 9.033 </td>\n",
              "        <td colspan=\"3\" style=\"text-align:center\" title=\"No. of function evaluations in last call and total number\"> Nfcn = 96 </td>\n",
              "    </tr>\n",
              "    <tr>\n",
              "        <td colspan=\"2\" style=\"text-align:left\" title=\"Estimated distance to minimum and goal\"> EDM = 8.56e-20 (Goal: 0.0002) </td>\n",
              "        <td colspan=\"3\" style=\"text-align:center\" title=\"No. of gradient evaluations in last call and total number\">  </td>\n",
              "    </tr>\n",
              "    <tr>\n",
              "        <td colspan=\"2\" style=\"text-align:center;background-color:#92CCA6;color:black\"> Valid Minimum </td>\n",
              "        <td colspan=\"3\" style=\"text-align:center;background-color:#92CCA6;color:black\"> No Parameters at limit </td>\n",
              "    </tr>\n",
              "    <tr>\n",
              "        <td colspan=\"2\" style=\"text-align:center;background-color:#92CCA6;color:black\"> Below EDM threshold (goal x 10) </td>\n",
              "        <td colspan=\"3\" style=\"text-align:center;background-color:#92CCA6;color:black\"> Below call limit </td>\n",
              "    </tr>\n",
              "    <tr>\n",
              "        <td style=\"text-align:center;background-color:#92CCA6;color:black\"> Covariance </td>\n",
              "        <td style=\"text-align:center;background-color:#92CCA6;color:black\"> Hesse ok </td>\n",
              "        <td style=\"text-align:center;background-color:#92CCA6;color:black\" title=\"Is covariance matrix accurate?\"> Accurate </td>\n",
              "        <td style=\"text-align:center;background-color:#92CCA6;color:black\" title=\"Is covariance matrix positive definite?\"> Pos. def. </td>\n",
              "        <td style=\"text-align:center;background-color:#92CCA6;color:black\" title=\"Was positive definiteness enforced by Minuit?\"> Not forced </td>\n",
              "    </tr>\n",
              "</table><table>\n",
              "    <tr>\n",
              "        <td></td>\n",
              "        <th title=\"Variable name\"> Name </th>\n",
              "        <th title=\"Value of parameter\"> Value </th>\n",
              "        <th title=\"Hesse error\"> Hesse Error </th>\n",
              "        <th title=\"Minos lower error\"> Minos Error- </th>\n",
              "        <th title=\"Minos upper error\"> Minos Error+ </th>\n",
              "        <th title=\"Lower limit of the parameter\"> Limit- </th>\n",
              "        <th title=\"Upper limit of the parameter\"> Limit+ </th>\n",
              "        <th title=\"Is the parameter fixed in the fit\"> Fixed </th>\n",
              "    </tr>\n",
              "    <tr>\n",
              "        <th> 0 </th>\n",
              "        <td> a </td>\n",
              "        <td> 0.8 </td>\n",
              "        <td> 1.3 </td>\n",
              "        <td>  </td>\n",
              "        <td>  </td>\n",
              "        <td>  </td>\n",
              "        <td>  </td>\n",
              "        <td>  </td>\n",
              "    </tr>\n",
              "    <tr>\n",
              "        <th> 1 </th>\n",
              "        <td> b </td>\n",
              "        <td> -1.5 </td>\n",
              "        <td> 2.0 </td>\n",
              "        <td>  </td>\n",
              "        <td>  </td>\n",
              "        <td>  </td>\n",
              "        <td>  </td>\n",
              "        <td>  </td>\n",
              "    </tr>\n",
              "    <tr>\n",
              "        <th> 2 </th>\n",
              "        <td> c </td>\n",
              "        <td> 2.7 </td>\n",
              "        <td> 0.8 </td>\n",
              "        <td>  </td>\n",
              "        <td>  </td>\n",
              "        <td>  </td>\n",
              "        <td>  </td>\n",
              "        <td>  </td>\n",
              "    </tr>\n",
              "    <tr>\n",
              "        <th> 3 </th>\n",
              "        <td> d </td>\n",
              "        <td> 0.91 </td>\n",
              "        <td> 0.09 </td>\n",
              "        <td>  </td>\n",
              "        <td>  </td>\n",
              "        <td>  </td>\n",
              "        <td>  </td>\n",
              "        <td>  </td>\n",
              "    </tr>\n",
              "</table><table>\n",
              "    <tr>\n",
              "        <td></td>\n",
              "        <th> a </th>\n",
              "        <th> b </th>\n",
              "        <th> c </th>\n",
              "        <th> d </th>\n",
              "    </tr>\n",
              "    <tr>\n",
              "        <th> a </th>\n",
              "        <td> 1.72 </td>\n",
              "        <td style=\"background-color:rgb(122,122,250);color:black\"> -2.58 <strong>(-0.984)</strong> </td>\n",
              "        <td style=\"background-color:rgb(250,115,115);color:black\"> 0.979 <strong>(0.898)</strong> </td>\n",
              "        <td style=\"background-color:rgb(185,185,250);color:black\"> -0.0595 <strong>(-0.500)</strong> </td>\n",
              "    </tr>\n",
              "    <tr>\n",
              "        <th> b </th>\n",
              "        <td style=\"background-color:rgb(122,122,250);color:black\"> -2.58 <strong>(-0.984)</strong> </td>\n",
              "        <td> 4 </td>\n",
              "        <td style=\"background-color:rgb(125,125,250);color:black\"> -1.59 <strong>(-0.959)</strong> </td>\n",
              "        <td style=\"background-color:rgb(250,161,161);color:black\"> 0.108 <strong>(0.593)</strong> </td>\n",
              "    </tr>\n",
              "    <tr>\n",
              "        <th> c </th>\n",
              "        <td style=\"background-color:rgb(250,115,115);color:black\"> 0.979 <strong>(0.898)</strong> </td>\n",
              "        <td style=\"background-color:rgb(125,125,250);color:black\"> -1.59 <strong>(-0.959)</strong> </td>\n",
              "        <td> 0.691 </td>\n",
              "        <td style=\"background-color:rgb(152,152,250);color:black\"> -0.0572 <strong>(-0.758)</strong> </td>\n",
              "    </tr>\n",
              "    <tr>\n",
              "        <th> d </th>\n",
              "        <td style=\"background-color:rgb(185,185,250);color:black\"> -0.0595 <strong>(-0.500)</strong> </td>\n",
              "        <td style=\"background-color:rgb(250,161,161);color:black\"> 0.108 <strong>(0.593)</strong> </td>\n",
              "        <td style=\"background-color:rgb(152,152,250);color:black\"> -0.0572 <strong>(-0.758)</strong> </td>\n",
              "        <td> 0.00824 </td>\n",
              "    </tr>\n",
              "</table>"
            ],
            "text/plain": [
              "┌─────────────────────────────────────────────────────────────────────────┐\n",
              "│                                Migrad                                   │\n",
              "├──────────────────────────────────┬──────────────────────────────────────┤\n",
              "│ FCN = 9.033                      │              Nfcn = 96               │\n",
              "│ EDM = 8.56e-20 (Goal: 0.0002)    │                                      │\n",
              "├──────────────────────────────────┼──────────────────────────────────────┤\n",
              "│          Valid Minimum           │        No Parameters at limit        │\n",
              "├──────────────────────────────────┼──────────────────────────────────────┤\n",
              "│ Below EDM threshold (goal x 10)  │           Below call limit           │\n",
              "├───────────────┬──────────────────┼───────────┬─────────────┬────────────┤\n",
              "│  Covariance   │     Hesse ok     │ Accurate  │  Pos. def.  │ Not forced │\n",
              "└───────────────┴──────────────────┴───────────┴─────────────┴────────────┘\n",
              "┌───┬──────┬───────────┬───────────┬────────────┬────────────┬─────────┬─────────┬───────┐\n",
              "│   │ Name │   Value   │ Hesse Err │ Minos Err- │ Minos Err+ │ Limit-  │ Limit+  │ Fixed │\n",
              "├───┼──────┼───────────┼───────────┼────────────┼────────────┼─────────┼─────────┼───────┤\n",
              "│ 0 │ a    │    0.8    │    1.3    │            │            │         │         │       │\n",
              "│ 1 │ b    │   -1.5    │    2.0    │            │            │         │         │       │\n",
              "│ 2 │ c    │    2.7    │    0.8    │            │            │         │         │       │\n",
              "│ 3 │ d    │   0.91    │   0.09    │            │            │         │         │       │\n",
              "└───┴──────┴───────────┴───────────┴────────────┴────────────┴─────────┴─────────┴───────┘\n",
              "┌───┬─────────────────────────────────┐\n",
              "│   │       a       b       c       d │\n",
              "├───┼─────────────────────────────────┤\n",
              "│ a │    1.72   -2.58   0.979 -0.0595 │\n",
              "│ b │   -2.58       4   -1.59   0.108 │\n",
              "│ c │   0.979   -1.59   0.691 -0.0572 │\n",
              "│ d │ -0.0595   0.108 -0.0572 0.00824 │\n",
              "└───┴─────────────────────────────────┘"
            ]
          },
          "metadata": {},
          "execution_count": 71
        }
      ]
    },
    {
      "cell_type": "code",
      "metadata": {
        "id": "l_5Tm9ExdCIU",
        "colab": {
          "base_uri": "https://localhost:8080/"
        },
        "outputId": "bcb8eb86-7288-4cb6-ce1b-b415f42193b1"
      },
      "source": [
        "m.values"
      ],
      "execution_count": null,
      "outputs": [
        {
          "output_type": "execute_result",
          "data": {
            "text/plain": [
              "<ValueView a=0.7654754973599222 b=-1.5030492741091694 c=2.735440243275514 d=0.911937259682182>"
            ]
          },
          "metadata": {},
          "execution_count": 72
        }
      ]
    },
    {
      "cell_type": "code",
      "metadata": {
        "id": "JaW3tbG4dGZI",
        "colab": {
          "base_uri": "https://localhost:8080/",
          "height": 302
        },
        "outputId": "e351408a-6a3c-4eb4-cbab-7f5e3636689e"
      },
      "source": [
        "m.draw_mncontour('a','b', cl=[0.7, 0.8]);"
      ],
      "execution_count": null,
      "outputs": [
        {
          "output_type": "display_data",
          "data": {
            "image/png": "[encoded data removed]",
            "text/plain": [
              "<Figure size 432x288 with 1 Axes>"
            ]
          },
          "metadata": {
            "needs_background": "light"
          }
        }
      ]
    },
    {
      "cell_type": "code",
      "metadata": {
        "id": "WW3e8xq1dME2",
        "colab": {
          "base_uri": "https://localhost:8080/"
        },
        "outputId": "eb5168f0-e8e8-4d6c-a9e5-33a629694566"
      },
      "source": [
        "# check reduced chi2, goodness-of-fit estimate, should be around 1\n",
        "m.fval / (len(y) - len(m.values))"
      ],
      "execution_count": null,
      "outputs": [
        {
          "output_type": "execute_result",
          "data": {
            "text/plain": [
              "1.5055320143296285"
            ]
          },
          "metadata": {},
          "execution_count": 74
        }
      ]
    },
    {
      "cell_type": "markdown",
      "metadata": {
        "id": "ZF4Tsc54y49W"
      },
      "source": [
        "Tendo finalizado os exemplos, vamos para a função que queremos minimizar.\n",
        "\n",
        "A função a ser minimizada é a dispersão de velocidades, já com a inserção dos termos oriundos da gravidade modificada.\n",
        "\n",
        "![image.png](data:image/png;base64,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)\n",
        "\n",
        "em que:\n",
        "\n",
        "![image.png](data:image/png;base64,iVBORw0KGgoAAAANSUhEUgAAAIEAAAA1CAYAAABm+4gzAAALDklEQVR4nO2c70tb9x7Hzx+QJ3nog4IQCj4oSJE+UEKxDyodhUV6EekPghkbWlzRrai16CzVWdoj603oXewdobuh23V3PfTupmPpMLurHc1uzZhiQ5e2OuKarFrSKmkwTeJ53QeJmpiTqFVjY/OCPEm+5yQn3/f3+/38+n4FCrzxCFv9AwpsPQURFMilCML4nVZ6Wjvo6fmQmj1aajr+gdMfVm4eciP19dJaU4ogqCjpvMVstttH3Fh0xQhCCQebziL2XccdkjfjQbYdORJBjNnhSzSaXAQX+iU6gdRQhmrfx9yajma4LoS7vxZNsQqhdoDJjH0a4tFXrezfrUbQmnHHNv4JtjO5EYE8wcB7fThTRqZMxN3PfkFNuXiXkOJ1D7HWn8fcW4mgEXFl0Irst3Px70ZO7hDY0TnEi014hO1MbkQQsNOk3sG+rv8ynayDsJOeYiHz6A3YOdn1PaPWowiqE9imFRrJU/xg+iejw39DK5TSZH+yWU+xbcmNCII/I+4rZuc71/DOJ70fdSFqhAyjXCbs/Cstdh8B+0nUQg0Wz9yyNjGe3bZwefgJ3gEDgnAU60QGG6NARrbUO5AnrOgEgaJWh4LRN4fHchbrRJioS0QjaOlxzqQ2Cf2K5dJtnslPcbSWIZSKuMIFY3CtbKEIQngsR1CpajHfC6Z/LHuRWizxZcIvoRc06KXJ1Ou/+IybU1EIDyOWqjKIqcBKbJEIZKLer6hTl9EgTaBo7806aG9PdGrCdtCIrkRbmcij63xyPX7tvMdClbCTOslLiuk57eTKR3rKBA0Hm3oQRTHxOkvTwRIEvYR/05/19WdLRCAHR+ivraTOMrrkMqa2IOwycWKhU+fvY6kqQt1kJwAgT/Ltxes8ishAjGnbCVSKNgPE3Ga0Cp/JE1YOL4rqzSb3Ioj+weBHRzFkFADE7YHOpI7zYasvQdBZmZCjTN28zJXFJSTAUGc5QvHHONPsgQiTAwaEHV0MvVj2mV+iviACINcikGe4ZznJ8RQBPGfk30NMJnsNPMF++tMkIy+IS4zHCoanh/jE5GR24aPYGGatemmWSCFhMC4Gmp7jvGiJ3/fZz0i3pzfpQfOL3IaN7ef5YPkMEBvDfPJ66tr8Yogzp5ONvMSIFqp4r+0yt58txQviHsYOdNaHpE0ssTHM2iJ2G0eIIRP1f0fb8X9liTy+meQsbBwc+4zaXTW0XhCTDDQRsVPP3h4n4aS2s06RY5b7LE0OMi+GutghlPOB3ZfU2bFEDEGH2Z0ec5QnB6hdNAov0F1fxV7zGIWociq5EcHsLTpLVAiCoPBaGMUyIfd1elv1VGpUqMpqaeldSgLF3P281SDhjcpABP/QFcQL7ej3FCEIpdS09tInuZPCz/PMOtopUjUg+aPEg0+X6B4KAFGmf/6R0eC84s9909jGqeQQbrMOocqCZ3lfR9xYTl/Dm9fLQnzQ9F1ooWanail7arrJRCTpwUKjWA7HM7GaSj2tplv4lz339hWB/DsDtRpKxWFSAsnyDGP97/Oh/c90GyIfSRjGimIHiHqxnWpCtD/M6I1tQxHIzHm+xXS+iYNqNWX600k2SDctNXtQlffh2ia1BnHDWJUudmSi0//D0nUJR6aajQTbUARvEguGcRmtjqcp7wfd1+gVv8ETXNkMLoggr0kEyhaNX0CeZfyGka6r2YJxqRREkM8kwumL9RhRH3dM71FtHiOyhtsURJDHyH6JOlWimio4ytWOo1SqBVSHB9bk+RREsInIfjtddXr0+tW/6rrsaS6cMok4iKDhL91GxN5ruINTDHVqEYRDmN2rL7JbkwiUgz1v9mvrmMUl7kcQdqM33cYflQGZkKuP8mx1mwoUZoJ8ZcEe2G1kJNkBmH+AtboYoaQDR2B1AfKCCDaRTV0OAnaa1EqleRF80nHUQgmGZUU2mSiIIC9ZSKilV1MByAE7zUUCqmor46tIj+RQBDECjo4cr7kxgve+pPfKyKp95uXIwRGu9H7JvVUEXXJHIi+SoZpqMX4gHMQ4olC/uYzciSDixqKrRnTNrNxWkSjTzk+p21NJg3U1gRCZOc8XNJ66gS+6nhCxTNR3g1ONX+CZ2+pQ8yxuyYTYc4KDGpVy9lT2MdTfkciuCqj26OnoH8q6xOSsniDg6KDUIOFb1/8YZcrWhHo1Cp8bxVzdjORbS9gkExF8UjPV5lGUxl2+k7ttaIcPrWMWSLpVwE5z0UouUASf9D7aNbhJKxK6i6h9f4NE9XqRAxHEfdeKNUaxMpOoG9zVu2xvYxLz97FU1a4pYLIyQUaMOiqMv/JyA+/6OrD5IpC9SIa3aHNMbVD+fp7ZoTOUCJX0OJ8rt/BYqNrw3UgyYZdIaaa8fR6zySJIzAI6C57kapfoY24Z32WPKptnkGVzaegOPbvUGc4siO9DKFKsPl5qE/TcQGzQ09B5DrG7kdqGy9xZIe9OwE5TUYaNsXnM5opAnsLRVrNsFghyz1xPnfE73E/DxNyfUW99iEwUv3SOfoWC0XSe4+ypRChqxzG7fFjGy9M1GfcUhPEPdrN/fzeDi50ewmM5SolhgPGIHLdhWqzpIz7qQtRUIrpWdrvyiU0UgUzEY0GnNTHyckkCsvca7YuHVczhsZxKVAo/xdHWscpRNse4tQ5VWjEFwBPsTdpl+xaTftOjqxxWV/GxM5CyPMV3KsWrlmXv17SkVDsvMImk12677e/rEEGYPx94M/vr8hSOtreyhy7n72N5uzu+Oyg2hvlAX8aDKJK/1z94DsNZkY4KNeoGG1MpXzCJpC9TFoHsRTKUKNfjLW56HcXV15PBC8hy7zzm1UQQ9XHHZGCncCCj2zc/bqW6IlstX/ykkgMLa/e0jfqdmU8jiRPGP9iD7riENxpkxHgQQd2EbSr5oiwdNW2jXqVGq7T3wC+hF4o5dLqT9suZ4gEFEcSRJ7lx5jxff9OHTqWipG2QQFo/z+ASa1ZIYMzgEnWLO4dibjPaLEfSLK7lVRcZno0BMi9HTFQIu2iwPU76nqc4WvdSO/B72nfHzzlQWkJIiEBAXXuF3zJFBuXfGajdq3x9HvPqy4H8J/bm3QiqY1jHl9W5+iQMpWcYSjPaktoEBmkrqV7cORTvIAMDk0rTcFwA+0qakLxJYzSRTk2tpHnBiPGAomEYr8xVNuwWditlHeVRF6LmAMaR7XUq0jpsgkwFDDO4xGp0FneWOrdEujPJl4+fMaA0ShMCUOsQhwPLRneYcesxVKp3GPAuhHDiLqK63kbadlPZi2Qop9bqSRJIjOD4TUwfNXOsbGd8Bnl2l69/eJw+i03bqC86iX2Vefp8YX3ewUIBQ1HL4h8jB+w0716poMGHrb6M/cZflsQT+gXj/l1UWx+kWuWzt+gsqaDZ5lV0+WT/fzi+U8PbSXH9eY+FKqXt6MhE/T9iNNRQ13EOUeyho7mdPulXpqNz+Ae7qXq7kdNtJoVa/UT6VmdlYqvzSBvMOl3EeGKoRChOjPwQHouB6qyzQA6Yf4C1ej0ZSyVmcImHODwwsT12LiWx/jhB6C5iuRqhvI/hx9/TVtr4GiRZIvhtH1KhaLS+GnJgkLaKNuwZD97MXzYgWPQS78A7qIRi9lZWULGRmbv1EPFgPfIuFs9G/JoQHsu7HLF6tnaG2yQ2JGIYt/RVCOrjr8EssIBM1CvRaPg8s8u3yvvM/fY5hsaFbfHbjw0KG7/gnvkIVcmG3mtBjOC9q5zq+4lnr1pe9uwn+k5dfc3KyzaWQqFpgYIIChREUICCCAoA/wc/iLPNjL6uHgAAAABJRU5ErkJggg==)"
      ]
    },
    {
      "cell_type": "markdown",
      "metadata": {
        "id": "-0MkLKo3wTE1"
      },
      "source": [
        "$M_E$ é a massa de um cilindro com raio igual ao raio de Einstein $\\theta_E$ e $R_E = D_l \\theta_E$,\n",
        "\n",
        "$\\lambda(x) = \\Gamma(\\frac{x-1}{2})/ \\Gamma(\\frac{x}{2})$,\n",
        "\n",
        "$\\xi = \\delta + \\alpha - 2$.\n",
        "\n",
        "Os parâmetros $\\alpha$ e $\\delta$ são as potências das expressões de densidade de massa e densidade de luminosidade, respectivamente.\n",
        "Já $\\beta$ é definido da seguinte forma:\n",
        "$\\beta(r) = 1 - \\frac{\\sigma_t ^2}{\\sigma_r ^2}$.\n",
        "\n",
        "Porém, consideraremos que $\\beta$ é constante.\n",
        "\n",
        "Logo, os parâmetros presentes na função que queremos minimizar são: $\\alpha$, $\\delta$, $\\beta$ e $\\theta_E$."
      ]
    },
    {
      "cell_type": "markdown",
      "metadata": {
        "id": "_wmlQkSjdiKv"
      },
      "source": [
        "Abrindo os dados enviados pelo professor:"
      ]
    },
    {
      "cell_type": "code",
      "metadata": {
        "id": "OF7WZeAgmRsE"
      },
      "source": [
        "import pandas as pd\n",
        "from astropy.cosmology import FlatLambdaCDM\n",
        "import astropy.units as u"
      ],
      "execution_count": null,
      "outputs": []
    },
    {
      "cell_type": "code",
      "metadata": {
        "colab": {
          "base_uri": "https://localhost:8080/"
        },
        "id": "_jB79a8EmvNc",
        "outputId": "2f5da227-ee16-44f7-9a4a-53355495f6fa"
      },
      "source": [
        "from google.colab import drive\n",
        "drive.mount('/content/drive')"
      ],
      "execution_count": null,
      "outputs": [
        {
          "output_type": "stream",
          "name": "stdout",
          "text": [
            "Drive already mounted at /content/drive; to attempt to forcibly remount, call drive.mount(\"/content/drive\", force_remount=True).\n"
          ]
        }
      ]
    },
    {
      "cell_type": "code",
      "metadata": {
        "id": "LtFo6OIUqu-K"
      },
      "source": [
        "lenses_DESc = pd.read_csv(\"/content/drive/MyDrive/lenses_DESc.txt\",\n",
        "                          sep=' ',\n",
        "                          comment='#',\n",
        "                          names=['id', 'zl', 'zs', 'b', 'sig_v', 'ql', 'rl', 'lens_g', 'lens_r', 'lens_i', 'xs', 'ys', 'qs', 'ps', 'rs', 'source_g', 'source_r', 'source_i', 'mu_s', 'g_band_coadd_seeing', 'g_band_coadd_signal_to_noise', 'r_band_coadd_seeing', 'r_band_coadd_signal_to_noise', 'i_band_coadd_seeing'])"
      ],
      "execution_count": null,
      "outputs": []
    },
    {
      "cell_type": "code",
      "metadata": {
        "id": "dNcP8pRstUVl",
        "colab": {
          "base_uri": "https://localhost:8080/"
        },
        "outputId": "7494a42c-a239-45b3-bb6c-df4bf9f844ca"
      },
      "source": [
        "#Testando operações com os dados\n",
        "lenses_DESc[\"zs\"]-lenses_DESc[\"zl\"]"
      ],
      "execution_count": null,
      "outputs": [
        {
          "output_type": "execute_result",
          "data": {
            "text/plain": [
              "0        1.464\n",
              "1        1.388\n",
              "2        0.716\n",
              "3        3.196\n",
              "4        0.489\n",
              "         ...  \n",
              "18593    0.908\n",
              "18594    0.743\n",
              "18595    0.219\n",
              "18596    0.764\n",
              "18597    2.467\n",
              "Length: 18598, dtype: float64"
            ]
          },
          "metadata": {},
          "execution_count": 78
        }
      ]
    },
    {
      "cell_type": "code",
      "metadata": {
        "id": "W_IyC_o-C8tp"
      },
      "source": [
        "d_ls = cosmo.angular_diameter_distance_z1z2(lenses_DESc[\"zl\"], lenses_DESc[\"zs\"]).value"
      ],
      "execution_count": null,
      "outputs": []
    },
    {
      "cell_type": "code",
      "metadata": {
        "id": "C4OrWsy7E2C9"
      },
      "source": [
        "d_l = cosmo.angular_diameter_distance(lenses_DESc[\"zl\"]).value"
      ],
      "execution_count": null,
      "outputs": []
    },
    {
      "cell_type": "markdown",
      "source": [
        "O que é fornecido são os dados de $\\sigma_v$, porém a expressão que queremos minimizar é a de $\\sigma_v ^2$. "
      ],
      "metadata": {
        "id": "5PeeDExbAKfu"
      }
    },
    {
      "cell_type": "code",
      "metadata": {
        "colab": {
          "base_uri": "https://localhost:8080/"
        },
        "id": "S_QUK7-gmlGr",
        "outputId": "57225b46-efe2-4c75-cc87-85527de434e5"
      },
      "source": [
        "(lenses_DESc[\"sig_v\"])**2"
      ],
      "execution_count": null,
      "outputs": [
        {
          "output_type": "execute_result",
          "data": {
            "text/plain": [
              "0         70284.372544\n",
              "1         70047.562225\n",
              "2        101491.942084\n",
              "3         66091.154724\n",
              "4         58884.360921\n",
              "             ...      \n",
              "18593     57210.420969\n",
              "18594    105483.347524\n",
              "18595     80496.470961\n",
              "18596     57259.704100\n",
              "18597     62282.689225\n",
              "Name: sig_v, Length: 18598, dtype: float64"
            ]
          },
          "metadata": {},
          "execution_count": 81
        }
      ]
    },
    {
      "cell_type": "markdown",
      "source": [
        "Vamos criar uma lista com estes novos dados:"
      ],
      "metadata": {
        "id": "TgK1LSByA5Y0"
      }
    },
    {
      "cell_type": "code",
      "metadata": {
        "id": "caIzPM_gm_OK"
      },
      "source": [
        "lista1 = (lenses_DESc[\"sig_v\"])**2"
      ],
      "execution_count": null,
      "outputs": []
    },
    {
      "cell_type": "markdown",
      "metadata": {
        "id": "hU6dW92xsuqQ"
      },
      "source": [
        "Criando uma nova coluna na nossa tabela de dados:"
      ]
    },
    {
      "cell_type": "code",
      "metadata": {
        "id": "SvDj9-RNpmbs"
      },
      "source": [
        "lenses_DESc[\"sig2\"] = lista1"
      ],
      "execution_count": null,
      "outputs": []
    },
    {
      "cell_type": "markdown",
      "metadata": {
        "id": "Wg-VKEyG1LSX"
      },
      "source": [
        "Definindo a função que queremos minimizar:"
      ]
    },
    {
      "cell_type": "code",
      "metadata": {
        "id": "GyuHRgPapxTm"
      },
      "source": [
        "#alpha é a\n",
        "#Raio de Einstein é b (definido assim pra ficar em acordo com a forma que é chamado nos dados)\n",
        "#delta é c\n",
        "#beta é d\n",
        "#xi é e\n",
        "\n",
        "#Definindo as constantes:\n",
        "g = 6.67430*((10)**(-11))\n",
        "k = 1\n",
        "\n",
        "def LSQ_numpy(a, d, e, y1):  # par is numpy array here  \n",
        "    #par = [a, b, c, d, e] \n",
        "    ym = ((g*k*d_l**(2-d))/((e-2*d)*(((lenses_DESc[\"b\"])*(lenses_DESc[\"zl\"]))**(3-a))) - (g*y1*k*(3-a)*(2-a)*d_l**(2-a))/(4*(((lenses_DESc[\"b\"])*(lenses_DESc[\"zl\"]))**(3-a))*(2*d - e)))\n",
        "    y = lenses_DESc[\"sig2\"]\n",
        "    return np.sum((y - ym) ** 2 / lenses_DESc[\"sig2\"] ** 2)"
      ],
      "execution_count": null,
      "outputs": []
    },
    {
      "cell_type": "markdown",
      "source": [
        "Vamos determinar nossos chutes iniciais a partir de Cao et al (doi:10.3847/1538-4357/835/1/92):"
      ],
      "metadata": {
        "id": "X-MHsnk6BL04"
      }
    },
    {
      "cell_type": "code",
      "metadata": {
        "id": "ZAeUKJG5roTk"
      },
      "source": [
        "m1 = Minuit(LSQ_numpy, a = 2., d = 0.25, e = 2.4, y1 = 1.)"
      ],
      "execution_count": null,
      "outputs": []
    },
    {
      "cell_type": "code",
      "metadata": {
        "id": "Luj3FEebr-h5",
        "colab": {
          "base_uri": "https://localhost:8080/",
          "height": 402
        },
        "outputId": "142aef8b-56f3-4450-993c-e2a7c84ff603"
      },
      "source": [
        "m1.migrad()"
      ],
      "execution_count": null,
      "outputs": [
        {
          "output_type": "stream",
          "name": "stderr",
          "text": [
            "/usr/local/lib/python3.7/dist-packages/ipykernel_launcher.py:1: IMinuitWarning: errordef not set, using 1 (appropriate for least-squares)\n",
            "  \"\"\"Entry point for launching an IPython kernel.\n"
          ]
        },
        {
          "output_type": "execute_result",
          "data": {
            "text/html": [
              "<table>\n",
              "    <tr>\n",
              "        <th colspan=\"5\" style=\"text-align:center\" title=\"Minimizer\"> Migrad </th>\n",
              "    </tr>\n",
              "    <tr>\n",
              "        <td colspan=\"2\" style=\"text-align:left\" title=\"Minimum value of function\"> FCN = 1.644e+04 </td>\n",
              "        <td colspan=\"3\" style=\"text-align:center\" title=\"No. of function evaluations in last call and total number\"> Nfcn = 805 </td>\n",
              "    </tr>\n",
              "    <tr>\n",
              "        <td colspan=\"2\" style=\"text-align:left\" title=\"Estimated distance to minimum and goal\"> EDM = 97.4 (Goal: 0.0002) </td>\n",
              "        <td colspan=\"3\" style=\"text-align:center\" title=\"No. of gradient evaluations in last call and total number\">  </td>\n",
              "    </tr>\n",
              "    <tr>\n",
              "        <td colspan=\"2\" style=\"text-align:center;background-color:#c15ef7;color:black\"> INVALID Minimum </td>\n",
              "        <td colspan=\"3\" style=\"text-align:center;background-color:#92CCA6;color:black\"> No Parameters at limit </td>\n",
              "    </tr>\n",
              "    <tr>\n",
              "        <td colspan=\"2\" style=\"text-align:center;background-color:#c15ef7;color:black\"> ABOVE EDM threshold (goal x 10) </td>\n",
              "        <td colspan=\"3\" style=\"text-align:center;background-color:#92CCA6;color:black\"> Below call limit </td>\n",
              "    </tr>\n",
              "    <tr>\n",
              "        <td style=\"text-align:center;background-color:#92CCA6;color:black\"> Covariance </td>\n",
              "        <td style=\"text-align:center;background-color:#92CCA6;color:black\"> Hesse ok </td>\n",
              "        <td style=\"text-align:center;background-color:#92CCA6;color:black\" title=\"Is covariance matrix accurate?\"> Accurate </td>\n",
              "        <td style=\"text-align:center;background-color:#92CCA6;color:black\" title=\"Is covariance matrix positive definite?\"> Pos. def. </td>\n",
              "        <td style=\"text-align:center;background-color:#92CCA6;color:black\" title=\"Was positive definiteness enforced by Minuit?\"> Not forced </td>\n",
              "    </tr>\n",
              "</table><table>\n",
              "    <tr>\n",
              "        <td></td>\n",
              "        <th title=\"Variable name\"> Name </th>\n",
              "        <th title=\"Value of parameter\"> Value </th>\n",
              "        <th title=\"Hesse error\"> Hesse Error </th>\n",
              "        <th title=\"Minos lower error\"> Minos Error- </th>\n",
              "        <th title=\"Minos upper error\"> Minos Error+ </th>\n",
              "        <th title=\"Lower limit of the parameter\"> Limit- </th>\n",
              "        <th title=\"Upper limit of the parameter\"> Limit+ </th>\n",
              "        <th title=\"Is the parameter fixed in the fit\"> Fixed </th>\n",
              "    </tr>\n",
              "    <tr>\n",
              "        <th> 0 </th>\n",
              "        <td> a </td>\n",
              "        <td> 0.0777 </td>\n",
              "        <td> 0.0024 </td>\n",
              "        <td>  </td>\n",
              "        <td>  </td>\n",
              "        <td>  </td>\n",
              "        <td>  </td>\n",
              "        <td>  </td>\n",
              "    </tr>\n",
              "    <tr>\n",
              "        <th> 1 </th>\n",
              "        <td> d </td>\n",
              "        <td> 1.01685444 </td>\n",
              "        <td> 0.00000006 </td>\n",
              "        <td>  </td>\n",
              "        <td>  </td>\n",
              "        <td>  </td>\n",
              "        <td>  </td>\n",
              "        <td>  </td>\n",
              "    </tr>\n",
              "    <tr>\n",
              "        <th> 2 </th>\n",
              "        <td> e </td>\n",
              "        <td> 2.03371164 </td>\n",
              "        <td> 0.00000005 </td>\n",
              "        <td>  </td>\n",
              "        <td>  </td>\n",
              "        <td>  </td>\n",
              "        <td>  </td>\n",
              "        <td>  </td>\n",
              "    </tr>\n",
              "    <tr>\n",
              "        <th> 3 </th>\n",
              "        <td> y1 </td>\n",
              "        <td> 19.3 </td>\n",
              "        <td> 0.6 </td>\n",
              "        <td>  </td>\n",
              "        <td>  </td>\n",
              "        <td>  </td>\n",
              "        <td>  </td>\n",
              "        <td>  </td>\n",
              "    </tr>\n",
              "</table><table>\n",
              "    <tr>\n",
              "        <td></td>\n",
              "        <th> a </th>\n",
              "        <th> d </th>\n",
              "        <th> e </th>\n",
              "        <th> y1 </th>\n",
              "    </tr>\n",
              "    <tr>\n",
              "        <th> a </th>\n",
              "        <td> 5.58e-06 </td>\n",
              "        <td style=\"background-color:rgb(250,143,143);color:black\"> 9.41e-11 <strong>(0.715)</strong> </td>\n",
              "        <td style=\"background-color:rgb(250,203,203);color:black\"> 3.32e-11 <strong>(0.312)</strong> </td>\n",
              "        <td style=\"background-color:rgb(203,203,250);color:black\"> -0.000496 <strong>(-0.365)</strong> </td>\n",
              "    </tr>\n",
              "    <tr>\n",
              "        <th> d </th>\n",
              "        <td style=\"background-color:rgb(250,143,143);color:black\"> 9.41e-11 <strong>(0.715)</strong> </td>\n",
              "        <td> 3.1e-15 </td>\n",
              "        <td style=\"background-color:rgb(250,176,176);color:black\"> 1.23e-15 <strong>(0.491)</strong> </td>\n",
              "        <td style=\"background-color:rgb(145,145,250);color:black\"> -2.6e-08 <strong>(-0.810)</strong> </td>\n",
              "    </tr>\n",
              "    <tr>\n",
              "        <th> e </th>\n",
              "        <td style=\"background-color:rgb(250,203,203);color:black\"> 3.32e-11 <strong>(0.312)</strong> </td>\n",
              "        <td style=\"background-color:rgb(250,176,176);color:black\"> 1.23e-15 <strong>(0.491)</strong> </td>\n",
              "        <td> 2.03e-15 </td>\n",
              "        <td style=\"background-color:rgb(211,211,250);color:black\"> -7.79e-09 <strong>(-0.301)</strong> </td>\n",
              "    </tr>\n",
              "    <tr>\n",
              "        <th> y1 </th>\n",
              "        <td style=\"background-color:rgb(203,203,250);color:black\"> -0.000496 <strong>(-0.365)</strong> </td>\n",
              "        <td style=\"background-color:rgb(145,145,250);color:black\"> -2.6e-08 <strong>(-0.810)</strong> </td>\n",
              "        <td style=\"background-color:rgb(211,211,250);color:black\"> -7.79e-09 <strong>(-0.301)</strong> </td>\n",
              "        <td> 0.331 </td>\n",
              "    </tr>\n",
              "</table>"
            ],
            "text/plain": [
              "┌─────────────────────────────────────────────────────────────────────────┐\n",
              "│                                Migrad                                   │\n",
              "├──────────────────────────────────┬──────────────────────────────────────┤\n",
              "│ FCN = 1.644e+04                  │              Nfcn = 805              │\n",
              "│ EDM = 97.4 (Goal: 0.0002)        │                                      │\n",
              "├──────────────────────────────────┼──────────────────────────────────────┤\n",
              "│         INVALID Minimum          │        No Parameters at limit        │\n",
              "├──────────────────────────────────┼──────────────────────────────────────┤\n",
              "│ ABOVE EDM threshold (goal x 10)  │           Below call limit           │\n",
              "├───────────────┬──────────────────┼───────────┬─────────────┬────────────┤\n",
              "│  Covariance   │     Hesse ok     │ Accurate  │  Pos. def.  │ Not forced │\n",
              "└───────────────┴──────────────────┴───────────┴─────────────┴────────────┘\n",
              "┌───┬──────┬───────────┬───────────┬────────────┬────────────┬─────────┬─────────┬───────┐\n",
              "│   │ Name │   Value   │ Hesse Err │ Minos Err- │ Minos Err+ │ Limit-  │ Limit+  │ Fixed │\n",
              "├───┼──────┼───────────┼───────────┼────────────┼────────────┼─────────┼─────────┼───────┤\n",
              "│ 0 │ a    │  0.0777   │  0.0024   │            │            │         │         │       │\n",
              "│ 1 │ d    │1.01685444 │0.00000006 │            │            │         │         │       │\n",
              "│ 2 │ e    │2.03371164 │0.00000005 │            │            │         │         │       │\n",
              "│ 3 │ y1   │   19.3    │    0.6    │            │            │         │         │       │\n",
              "└───┴──────┴───────────┴───────────┴────────────┴────────────┴─────────┴─────────┴───────┘\n",
              "┌────┬─────────────────────────────────────────┐\n",
              "│    │         a         d         e        y1 │\n",
              "├────┼─────────────────────────────────────────┤\n",
              "│  a │  5.58e-06  9.41e-11  3.32e-11 -0.000496 │\n",
              "│  d │  9.41e-11   3.1e-15  1.23e-15  -2.6e-08 │\n",
              "│  e │  3.32e-11  1.23e-15  2.03e-15 -7.79e-09 │\n",
              "│ y1 │ -0.000496  -2.6e-08 -7.79e-09     0.331 │\n",
              "└────┴─────────────────────────────────────────┘"
            ]
          },
          "metadata": {},
          "execution_count": 86
        }
      ]
    },
    {
      "cell_type": "code",
      "metadata": {
        "colab": {
          "base_uri": "https://localhost:8080/"
        },
        "id": "i-ie0m6oFOgG",
        "outputId": "542ecd02-b918-4b99-e758-cd03f5c8235c"
      },
      "source": [
        "m1.values"
      ],
      "execution_count": null,
      "outputs": [
        {
          "output_type": "execute_result",
          "data": {
            "text/plain": [
              "<ValueView a=0.07769059058126493 d=1.0168544400405446 e=2.033711639600294 y1=19.34641025845097>"
            ]
          },
          "metadata": {},
          "execution_count": 87
        }
      ]
    },
    {
      "cell_type": "code",
      "metadata": {
        "colab": {
          "base_uri": "https://localhost:8080/"
        },
        "id": "uvuKla7NFSP-",
        "outputId": "c7314b19-1454-4fe9-d35f-8bb5409929e7"
      },
      "source": [
        "# check reduced chi2, goodness-of-fit estimate, should be around 1\n",
        "m1.fval / (len(y) - len(m1.values))"
      ],
      "execution_count": null,
      "outputs": [
        {
          "output_type": "execute_result",
          "data": {
            "text/plain": [
              "2739.2564715400626"
            ]
          },
          "metadata": {},
          "execution_count": 88
        }
      ]
    },
    {
      "cell_type": "markdown",
      "source": [
        "Temos um valor muito grande para $\\chi^2$, o que nos mostra que nossa minimização não está boa. Uma forma de buscar melhorá-la é utilizar a incerteza de $\\sigma_v ^2$ no denominador. Esta incerteza pode ser estimada dos dados da tabela:"
      ],
      "metadata": {
        "id": "EMaFe36yMxna"
      }
    },
    {
      "cell_type": "code",
      "source": [
        "lenses_DESc.describe()"
      ],
      "metadata": {
        "colab": {
          "base_uri": "https://localhost:8080/",
          "height": 320
        },
        "id": "xDlx_BIv_Xdm",
        "outputId": "da61ebb6-f669-4559-f8cd-f4b5f9057cca"
      },
      "execution_count": null,
      "outputs": [
        {
          "output_type": "execute_result",
          "data": {
            "text/html": [
              "<div>\n",
              "<style scoped>\n",
              "    .dataframe tbody tr th:only-of-type {\n",
              "        vertical-align: middle;\n",
              "    }\n",
              "\n",
              "    .dataframe tbody tr th {\n",
              "        vertical-align: top;\n",
              "    }\n",
              "\n",
              "    .dataframe thead th {\n",
              "        text-align: right;\n",
              "    }\n",
              "</style>\n",
              "<table border=\"1\" class=\"dataframe\">\n",
              "  <thead>\n",
              "    <tr style=\"text-align: right;\">\n",
              "      <th></th>\n",
              "      <th>id</th>\n",
              "      <th>zl</th>\n",
              "      <th>zs</th>\n",
              "      <th>b</th>\n",
              "      <th>sig_v</th>\n",
              "      <th>ql</th>\n",
              "      <th>rl</th>\n",
              "      <th>lens_g</th>\n",
              "      <th>lens_r</th>\n",
              "      <th>lens_i</th>\n",
              "      <th>xs</th>\n",
              "      <th>ys</th>\n",
              "      <th>qs</th>\n",
              "      <th>ps</th>\n",
              "      <th>rs</th>\n",
              "      <th>source_g</th>\n",
              "      <th>source_r</th>\n",
              "      <th>source_i</th>\n",
              "      <th>mu_s</th>\n",
              "      <th>g_band_coadd_seeing</th>\n",
              "      <th>g_band_coadd_signal_to_noise</th>\n",
              "      <th>r_band_coadd_seeing</th>\n",
              "      <th>r_band_coadd_signal_to_noise</th>\n",
              "      <th>i_band_coadd_seeing</th>\n",
              "      <th>sig2</th>\n",
              "    </tr>\n",
              "  </thead>\n",
              "  <tbody>\n",
              "    <tr>\n",
              "      <th>count</th>\n",
              "      <td>18598.000000</td>\n",
              "      <td>18598.000000</td>\n",
              "      <td>18598.000000</td>\n",
              "      <td>18598.000000</td>\n",
              "      <td>18598.000000</td>\n",
              "      <td>18598.000000</td>\n",
              "      <td>18598.000000</td>\n",
              "      <td>18598.000000</td>\n",
              "      <td>18598.000000</td>\n",
              "      <td>18598.000000</td>\n",
              "      <td>18598.000000</td>\n",
              "      <td>18598.000000</td>\n",
              "      <td>18598.000000</td>\n",
              "      <td>18598.000000</td>\n",
              "      <td>18598.000000</td>\n",
              "      <td>18598.000000</td>\n",
              "      <td>18598.000000</td>\n",
              "      <td>18598.000000</td>\n",
              "      <td>18598.000000</td>\n",
              "      <td>18598.000000</td>\n",
              "      <td>18598.000000</td>\n",
              "      <td>18598.000000</td>\n",
              "      <td>18598.000000</td>\n",
              "      <td>18598.000000</td>\n",
              "      <td>18598.000000</td>\n",
              "    </tr>\n",
              "    <tr>\n",
              "      <th>mean</th>\n",
              "      <td>11046.946069</td>\n",
              "      <td>0.468950</td>\n",
              "      <td>1.856381</td>\n",
              "      <td>1.353211</td>\n",
              "      <td>271.533027</td>\n",
              "      <td>0.731085</td>\n",
              "      <td>0.949126</td>\n",
              "      <td>21.034164</td>\n",
              "      <td>19.158004</td>\n",
              "      <td>18.232113</td>\n",
              "      <td>0.949126</td>\n",
              "      <td>-0.004766</td>\n",
              "      <td>0.001532</td>\n",
              "      <td>0.642598</td>\n",
              "      <td>90.530247</td>\n",
              "      <td>0.301735</td>\n",
              "      <td>17.068227</td>\n",
              "      <td>1.371592</td>\n",
              "      <td>35.162853</td>\n",
              "      <td>1.372250</td>\n",
              "      <td>28.086519</td>\n",
              "      <td>1.374224</td>\n",
              "      <td>22.482294</td>\n",
              "      <td>24.068799</td>\n",
              "      <td>75297.051984</td>\n",
              "    </tr>\n",
              "    <tr>\n",
              "      <th>std</th>\n",
              "      <td>6481.693422</td>\n",
              "      <td>0.248618</td>\n",
              "      <td>0.757200</td>\n",
              "      <td>0.427020</td>\n",
              "      <td>39.584740</td>\n",
              "      <td>0.142077</td>\n",
              "      <td>0.526452</td>\n",
              "      <td>2.457607</td>\n",
              "      <td>2.171906</td>\n",
              "      <td>1.849838</td>\n",
              "      <td>0.526452</td>\n",
              "      <td>0.364590</td>\n",
              "      <td>0.457729</td>\n",
              "      <td>0.175358</td>\n",
              "      <td>51.621632</td>\n",
              "      <td>0.219839</td>\n",
              "      <td>38.906125</td>\n",
              "      <td>0.221616</td>\n",
              "      <td>34.788853</td>\n",
              "      <td>0.221999</td>\n",
              "      <td>29.114978</td>\n",
              "      <td>0.223380</td>\n",
              "      <td>30.676607</td>\n",
              "      <td>23.033092</td>\n",
              "      <td>21967.707664</td>\n",
              "    </tr>\n",
              "    <tr>\n",
              "      <th>min</th>\n",
              "      <td>0.000000</td>\n",
              "      <td>0.027000</td>\n",
              "      <td>0.150000</td>\n",
              "      <td>0.532000</td>\n",
              "      <td>156.393000</td>\n",
              "      <td>0.203000</td>\n",
              "      <td>0.196000</td>\n",
              "      <td>12.221000</td>\n",
              "      <td>11.258000</td>\n",
              "      <td>10.907000</td>\n",
              "      <td>0.196000</td>\n",
              "      <td>-2.023000</td>\n",
              "      <td>-2.022000</td>\n",
              "      <td>0.200000</td>\n",
              "      <td>0.008000</td>\n",
              "      <td>0.001000</td>\n",
              "      <td>3.000000</td>\n",
              "      <td>0.964000</td>\n",
              "      <td>0.000000</td>\n",
              "      <td>0.964000</td>\n",
              "      <td>0.001000</td>\n",
              "      <td>0.964000</td>\n",
              "      <td>0.001000</td>\n",
              "      <td>0.000000</td>\n",
              "      <td>24458.770449</td>\n",
              "    </tr>\n",
              "    <tr>\n",
              "      <th>25%</th>\n",
              "      <td>5300.250000</td>\n",
              "      <td>0.287000</td>\n",
              "      <td>1.334000</td>\n",
              "      <td>1.041000</td>\n",
              "      <td>243.312250</td>\n",
              "      <td>0.641000</td>\n",
              "      <td>0.632000</td>\n",
              "      <td>19.418000</td>\n",
              "      <td>17.656000</td>\n",
              "      <td>17.023000</td>\n",
              "      <td>0.632000</td>\n",
              "      <td>-0.180000</td>\n",
              "      <td>-0.221000</td>\n",
              "      <td>0.520000</td>\n",
              "      <td>46.080250</td>\n",
              "      <td>0.147000</td>\n",
              "      <td>4.852000</td>\n",
              "      <td>1.215000</td>\n",
              "      <td>21.150000</td>\n",
              "      <td>1.215000</td>\n",
              "      <td>15.694250</td>\n",
              "      <td>1.215000</td>\n",
              "      <td>10.701000</td>\n",
              "      <td>12.122500</td>\n",
              "      <td>59200.851005</td>\n",
              "    </tr>\n",
              "    <tr>\n",
              "      <th>50%</th>\n",
              "      <td>11463.500000</td>\n",
              "      <td>0.424000</td>\n",
              "      <td>1.832000</td>\n",
              "      <td>1.292000</td>\n",
              "      <td>269.813000</td>\n",
              "      <td>0.750000</td>\n",
              "      <td>0.823000</td>\n",
              "      <td>20.926000</td>\n",
              "      <td>19.019000</td>\n",
              "      <td>18.164500</td>\n",
              "      <td>0.823000</td>\n",
              "      <td>-0.005000</td>\n",
              "      <td>0.002000</td>\n",
              "      <td>0.658000</td>\n",
              "      <td>90.584500</td>\n",
              "      <td>0.261000</td>\n",
              "      <td>7.415000</td>\n",
              "      <td>1.391000</td>\n",
              "      <td>26.807000</td>\n",
              "      <td>1.391000</td>\n",
              "      <td>21.170500</td>\n",
              "      <td>1.391000</td>\n",
              "      <td>16.014000</td>\n",
              "      <td>20.989000</td>\n",
              "      <td>72799.054973</td>\n",
              "    </tr>\n",
              "    <tr>\n",
              "      <th>75%</th>\n",
              "      <td>16737.750000</td>\n",
              "      <td>0.603000</td>\n",
              "      <td>2.297000</td>\n",
              "      <td>1.593000</td>\n",
              "      <td>297.752750</td>\n",
              "      <td>0.837000</td>\n",
              "      <td>1.103000</td>\n",
              "      <td>22.525000</td>\n",
              "      <td>20.608750</td>\n",
              "      <td>19.352750</td>\n",
              "      <td>1.103000</td>\n",
              "      <td>0.168000</td>\n",
              "      <td>0.223000</td>\n",
              "      <td>0.778000</td>\n",
              "      <td>134.445500</td>\n",
              "      <td>0.406000</td>\n",
              "      <td>12.553500</td>\n",
              "      <td>1.567000</td>\n",
              "      <td>39.391500</td>\n",
              "      <td>1.567000</td>\n",
              "      <td>30.664750</td>\n",
              "      <td>1.567000</td>\n",
              "      <td>25.406750</td>\n",
              "      <td>29.866250</td>\n",
              "      <td>88656.700164</td>\n",
              "    </tr>\n",
              "    <tr>\n",
              "      <th>max</th>\n",
              "      <td>21998.000000</td>\n",
              "      <td>1.983000</td>\n",
              "      <td>5.576000</td>\n",
              "      <td>3.929000</td>\n",
              "      <td>399.836000</td>\n",
              "      <td>0.998000</td>\n",
              "      <td>9.720000</td>\n",
              "      <td>28.513000</td>\n",
              "      <td>28.047000</td>\n",
              "      <td>26.869000</td>\n",
              "      <td>9.720000</td>\n",
              "      <td>1.806000</td>\n",
              "      <td>2.011000</td>\n",
              "      <td>0.996000</td>\n",
              "      <td>179.999000</td>\n",
              "      <td>1.759000</td>\n",
              "      <td>1797.490000</td>\n",
              "      <td>1.659000</td>\n",
              "      <td>1089.091000</td>\n",
              "      <td>1.659000</td>\n",
              "      <td>1175.916000</td>\n",
              "      <td>1.659000</td>\n",
              "      <td>1694.654000</td>\n",
              "      <td>408.433000</td>\n",
              "      <td>159868.826896</td>\n",
              "    </tr>\n",
              "  </tbody>\n",
              "</table>\n",
              "</div>"
            ],
            "text/plain": [
              "                 id            zl  ...  i_band_coadd_seeing           sig2\n",
              "count  18598.000000  18598.000000  ...         18598.000000   18598.000000\n",
              "mean   11046.946069      0.468950  ...            24.068799   75297.051984\n",
              "std     6481.693422      0.248618  ...            23.033092   21967.707664\n",
              "min        0.000000      0.027000  ...             0.000000   24458.770449\n",
              "25%     5300.250000      0.287000  ...            12.122500   59200.851005\n",
              "50%    11463.500000      0.424000  ...            20.989000   72799.054973\n",
              "75%    16737.750000      0.603000  ...            29.866250   88656.700164\n",
              "max    21998.000000      1.983000  ...           408.433000  159868.826896\n",
              "\n",
              "[8 rows x 25 columns]"
            ]
          },
          "metadata": {},
          "execution_count": 89
        }
      ]
    },
    {
      "cell_type": "code",
      "source": [
        "lenses_DESc[\"sig2\"].describe(include = 'all')"
      ],
      "metadata": {
        "colab": {
          "base_uri": "https://localhost:8080/"
        },
        "id": "KAFJsZgwNNcP",
        "outputId": "71131bd7-e196-4d04-a309-c69366ca525d"
      },
      "execution_count": null,
      "outputs": [
        {
          "output_type": "execute_result",
          "data": {
            "text/plain": [
              "count     18598.000000\n",
              "mean      75297.051984\n",
              "std       21967.707664\n",
              "min       24458.770449\n",
              "25%       59200.851005\n",
              "50%       72799.054973\n",
              "75%       88656.700164\n",
              "max      159868.826896\n",
              "Name: sig2, dtype: float64"
            ]
          },
          "metadata": {},
          "execution_count": 90
        }
      ]
    },
    {
      "cell_type": "markdown",
      "source": [
        "Então, podemos encontrar um novo valor para $\\chi^2$ :"
      ],
      "metadata": {
        "id": "gkuJBvHXNqhU"
      }
    },
    {
      "cell_type": "code",
      "source": [
        "# check reduced chi2, goodness-of-fit estimate, should be around 1\n",
        "m1.fval / (21967.707664)**2"
      ],
      "metadata": {
        "colab": {
          "base_uri": "https://localhost:8080/"
        },
        "id": "Uq2qBD8vDGKw",
        "outputId": "ba48c76f-dae5-46af-a6cc-96627658939e"
      },
      "execution_count": null,
      "outputs": [
        {
          "output_type": "execute_result",
          "data": {
            "text/plain": [
              "3.405763334264361e-05"
            ]
          },
          "metadata": {},
          "execution_count": 91
        }
      ]
    }
  ]
}