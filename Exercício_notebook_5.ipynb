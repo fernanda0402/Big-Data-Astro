{
  "nbformat": 4,
  "nbformat_minor": 0,
  "metadata": {
    "colab": {
      "name": "Exercício_notebook_5.ipynb",
      "provenance": [],
      "collapsed_sections": [],
      "authorship_tag": "ABX9TyMxM+AZ99txWp1GT0imYb7d",
      "include_colab_link": true
    },
    "kernelspec": {
      "name": "python3",
      "display_name": "Python 3"
    },
    "language_info": {
      "name": "python"
    }
  },
  "cells": [
    {
      "cell_type": "markdown",
      "metadata": {
        "id": "view-in-github",
        "colab_type": "text"
      },
      "source": [
        "<a href=\"https://colab.research.google.com/github/fernanda0402/Big-Data-Astro/blob/main/Exerc%C3%ADcio_notebook_5.ipynb\" target=\"_parent\"><img src=\"https://colab.research.google.com/assets/colab-badge.svg\" alt=\"Open In Colab\"/></a>"
      ]
    },
    {
      "cell_type": "markdown",
      "metadata": {
        "id": "FBQW52SHFi5Q"
      },
      "source": [
        "## **Exercício do notebook 5 de Big Data e Astroinformática**\n",
        "\n",
        "Photometric redshifts with Dense Network"
      ]
    },
    {
      "cell_type": "markdown",
      "metadata": {
        "id": "O2R-1bUoR2u4"
      },
      "source": [
        "Baixando o arquivo fits:"
      ]
    },
    {
      "cell_type": "code",
      "metadata": {
        "colab": {
          "base_uri": "https://localhost:8080/"
        },
        "id": "-j3--ncSR1Lf",
        "outputId": "407f3aa1-4bc5-462d-a89d-1786dd0a5e23"
      },
      "source": [
        "!wget specz_catalog_ecbpf.fits \"https://www.dropbox.com/s/38zmuj2zxuoigzk/specz_catalog_XIIIecbpf.fits?dl=0\"\n",
        "!ls"
      ],
      "execution_count": 17,
      "outputs": [
        {
          "output_type": "stream",
          "name": "stdout",
          "text": [
            "--2021-11-30 18:01:03--  http://specz_catalog_ecbpf.fits/\n",
            "Resolving specz_catalog_ecbpf.fits (specz_catalog_ecbpf.fits)... failed: Name or service not known.\n",
            "wget: unable to resolve host address ‘specz_catalog_ecbpf.fits’\n",
            "--2021-11-30 18:01:03--  https://www.dropbox.com/s/38zmuj2zxuoigzk/specz_catalog_XIIIecbpf.fits?dl=0\n",
            "Resolving www.dropbox.com (www.dropbox.com)... 162.125.5.18, 2620:100:601d:18::a27d:512\n",
            "Connecting to www.dropbox.com (www.dropbox.com)|162.125.5.18|:443... connected.\n",
            "HTTP request sent, awaiting response... 301 Moved Permanently\n",
            "Location: /s/raw/38zmuj2zxuoigzk/specz_catalog_XIIIecbpf.fits [following]\n",
            "--2021-11-30 18:01:03--  https://www.dropbox.com/s/raw/38zmuj2zxuoigzk/specz_catalog_XIIIecbpf.fits\n",
            "Reusing existing connection to www.dropbox.com:443.\n",
            "HTTP request sent, awaiting response... 302 Found\n",
            "Location: https://ucbf5d2322d76fbd3464fbc4caf8.dl.dropboxusercontent.com/cd/0/inline/Ba_qYQb8mVoEVji47Q381Gw6Jvk2WblA7luEuiH2SHfxmX5oISFRexuslt0fhOauvpWvJT6pTnEVzhxr3bBk2WCr7QmIf08jHZQpl_UJh3KGC4oNdXe4ENcgGp_7Kd9v5nzSIca9MYpGpJyJ8ZO5VMEu/file# [following]\n",
            "--2021-11-30 18:01:03--  https://ucbf5d2322d76fbd3464fbc4caf8.dl.dropboxusercontent.com/cd/0/inline/Ba_qYQb8mVoEVji47Q381Gw6Jvk2WblA7luEuiH2SHfxmX5oISFRexuslt0fhOauvpWvJT6pTnEVzhxr3bBk2WCr7QmIf08jHZQpl_UJh3KGC4oNdXe4ENcgGp_7Kd9v5nzSIca9MYpGpJyJ8ZO5VMEu/file\n",
            "Resolving ucbf5d2322d76fbd3464fbc4caf8.dl.dropboxusercontent.com (ucbf5d2322d76fbd3464fbc4caf8.dl.dropboxusercontent.com)... 162.125.5.15, 2620:100:601d:15::a27d:50f\n",
            "Connecting to ucbf5d2322d76fbd3464fbc4caf8.dl.dropboxusercontent.com (ucbf5d2322d76fbd3464fbc4caf8.dl.dropboxusercontent.com)|162.125.5.15|:443... connected.\n",
            "HTTP request sent, awaiting response... 200 OK\n",
            "Length: 20770560 (20M) [text/plain]\n",
            "Saving to: ‘specz_catalog_XIIIecbpf.fits?dl=0’\n",
            "\n",
            "specz_catalog_XIIIe 100%[===================>]  19.81M  44.5MB/s    in 0.4s    \n",
            "\n",
            "2021-11-30 18:01:04 (44.5 MB/s) - ‘specz_catalog_XIIIecbpf.fits?dl=0’ saved [20770560/20770560]\n",
            "\n",
            "FINISHED --2021-11-30 18:01:04--\n",
            "Total wall clock time: 1.4s\n",
            "Downloaded: 1 files, 20M in 0.4s (44.5 MB/s)\n",
            " drive\t       specz_catalog_XIIIecbpf.fits\n",
            " sample_data  'specz_catalog_XIIIecbpf.fits?dl=0'\n"
          ]
        }
      ]
    },
    {
      "cell_type": "code",
      "metadata": {
        "id": "pWAghQWPFWQV"
      },
      "source": [
        "from astropy.io import fits\n",
        "import os\n",
        "import numpy as np\n",
        "from astropy.table import Table\n",
        "import matplotlib.pyplot as plt\n",
        "import pandas as pd\n",
        "\n",
        "def open_fits_catalog(fits_file):\n",
        "    hdu_list=fits.open(fits_file, ignore_missing_end=True)\n",
        "    #print hdu_list\n",
        "    hdu = hdu_list[1]    # table extensions can't be the first extension, so there's a dummy image extension at 0\n",
        "    #print hdu.header\n",
        "    cat_table = Table(hdu.data)\n",
        "    cols=hdu.columns\n",
        "    return cat_table, cols"
      ],
      "execution_count": 18,
      "outputs": []
    },
    {
      "cell_type": "code",
      "metadata": {
        "id": "41b53d4f"
      },
      "source": [
        "dados_dir = '/content/specz_catalog_XIIIecbpf.fits'\n",
        "\n",
        "data, _ = open_fits_catalog(dados_dir)"
      ],
      "execution_count": 19,
      "outputs": []
    },
    {
      "cell_type": "code",
      "metadata": {
        "colab": {
          "base_uri": "https://localhost:8080/",
          "height": 444
        },
        "id": "Wdxzadlq8niY",
        "outputId": "f4cb70a0-a09a-45a7-c7ce-55bd8767b41a"
      },
      "source": [
        "df=data.to_pandas()\n",
        "df"
      ],
      "execution_count": 20,
      "outputs": [
        {
          "output_type": "execute_result",
          "data": {
            "text/html": [
              "<div>\n",
              "<style scoped>\n",
              "    .dataframe tbody tr th:only-of-type {\n",
              "        vertical-align: middle;\n",
              "    }\n",
              "\n",
              "    .dataframe tbody tr th {\n",
              "        vertical-align: top;\n",
              "    }\n",
              "\n",
              "    .dataframe thead th {\n",
              "        text-align: right;\n",
              "    }\n",
              "</style>\n",
              "<table border=\"1\" class=\"dataframe\">\n",
              "  <thead>\n",
              "    <tr style=\"text-align: right;\">\n",
              "      <th></th>\n",
              "      <th>ra</th>\n",
              "      <th>dec</th>\n",
              "      <th>class</th>\n",
              "      <th>z</th>\n",
              "      <th>zErr</th>\n",
              "      <th>petroMag_u</th>\n",
              "      <th>petroMagErr_u</th>\n",
              "      <th>petroMag_g</th>\n",
              "      <th>petroMagErr_g</th>\n",
              "      <th>petroMag_r</th>\n",
              "      <th>petroMagErr_r</th>\n",
              "      <th>petroMag_i</th>\n",
              "      <th>petroMagErr_i</th>\n",
              "    </tr>\n",
              "  </thead>\n",
              "  <tbody>\n",
              "    <tr>\n",
              "      <th>0</th>\n",
              "      <td>146.622820</td>\n",
              "      <td>-0.951385</td>\n",
              "      <td>GALAXY</td>\n",
              "      <td>0.371128</td>\n",
              "      <td>0.000069</td>\n",
              "      <td>22.40671</td>\n",
              "      <td>0.9912677</td>\n",
              "      <td>20.32166</td>\n",
              "      <td>0.09126051</td>\n",
              "      <td>18.62304</td>\n",
              "      <td>0.03089815</td>\n",
              "      <td>18.05202</td>\n",
              "      <td>0.03665525</td>\n",
              "    </tr>\n",
              "    <tr>\n",
              "      <th>1</th>\n",
              "      <td>146.592720</td>\n",
              "      <td>-0.760256</td>\n",
              "      <td>GALAXY</td>\n",
              "      <td>0.064959</td>\n",
              "      <td>0.000009</td>\n",
              "      <td>19.03327</td>\n",
              "      <td>0.089179</td>\n",
              "      <td>17.4961</td>\n",
              "      <td>0.01081754</td>\n",
              "      <td>16.91567</td>\n",
              "      <td>0.01007535</td>\n",
              "      <td>16.50206</td>\n",
              "      <td>0.01019981</td>\n",
              "    </tr>\n",
              "    <tr>\n",
              "      <th>2</th>\n",
              "      <td>146.910800</td>\n",
              "      <td>-0.074559</td>\n",
              "      <td>GALAXY</td>\n",
              "      <td>0.242272</td>\n",
              "      <td>0.000086</td>\n",
              "      <td>20.18482</td>\n",
              "      <td>0.2964447</td>\n",
              "      <td>19.53431</td>\n",
              "      <td>0.08892172</td>\n",
              "      <td>18.03267</td>\n",
              "      <td>0.03387981</td>\n",
              "      <td>17.43746</td>\n",
              "      <td>0.04512536</td>\n",
              "    </tr>\n",
              "    <tr>\n",
              "      <th>3</th>\n",
              "      <td>146.448310</td>\n",
              "      <td>-0.713400</td>\n",
              "      <td>GALAXY</td>\n",
              "      <td>0.114698</td>\n",
              "      <td>0.000008</td>\n",
              "      <td>18.94475</td>\n",
              "      <td>0.04721325</td>\n",
              "      <td>17.98683</td>\n",
              "      <td>0.009779428</td>\n",
              "      <td>17.451</td>\n",
              "      <td>0.009233744</td>\n",
              "      <td>17.02182</td>\n",
              "      <td>0.008778921</td>\n",
              "    </tr>\n",
              "    <tr>\n",
              "      <th>4</th>\n",
              "      <td>146.788470</td>\n",
              "      <td>-0.310658</td>\n",
              "      <td>GALAXY</td>\n",
              "      <td>0.056562</td>\n",
              "      <td>0.000015</td>\n",
              "      <td>20.73877</td>\n",
              "      <td>0.4804843</td>\n",
              "      <td>18.73327</td>\n",
              "      <td>0.03666106</td>\n",
              "      <td>18.14503</td>\n",
              "      <td>0.03382286</td>\n",
              "      <td>17.86618</td>\n",
              "      <td>0.03925543</td>\n",
              "    </tr>\n",
              "    <tr>\n",
              "      <th>...</th>\n",
              "      <td>...</td>\n",
              "      <td>...</td>\n",
              "      <td>...</td>\n",
              "      <td>...</td>\n",
              "      <td>...</td>\n",
              "      <td>...</td>\n",
              "      <td>...</td>\n",
              "      <td>...</td>\n",
              "      <td>...</td>\n",
              "      <td>...</td>\n",
              "      <td>...</td>\n",
              "      <td>...</td>\n",
              "      <td>...</td>\n",
              "    </tr>\n",
              "    <tr>\n",
              "      <th>175916</th>\n",
              "      <td>16.005106</td>\n",
              "      <td>-0.855950</td>\n",
              "      <td>GALAXY</td>\n",
              "      <td>0.065073</td>\n",
              "      <td>0.000007</td>\n",
              "      <td>18.20492</td>\n",
              "      <td>0.05129132</td>\n",
              "      <td>17.21942</td>\n",
              "      <td>0.01060271</td>\n",
              "      <td>16.86439</td>\n",
              "      <td>0.008551153</td>\n",
              "      <td>16.60081</td>\n",
              "      <td>0.01340905</td>\n",
              "    </tr>\n",
              "    <tr>\n",
              "      <th>175917</th>\n",
              "      <td>15.651509</td>\n",
              "      <td>-0.637366</td>\n",
              "      <td>GALAXY</td>\n",
              "      <td>0.191312</td>\n",
              "      <td>0.000035</td>\n",
              "      <td>20.34421</td>\n",
              "      <td>0.2486131</td>\n",
              "      <td>18.83951</td>\n",
              "      <td>0.03180256</td>\n",
              "      <td>17.65709</td>\n",
              "      <td>0.01682307</td>\n",
              "      <td>17.13594</td>\n",
              "      <td>0.01566291</td>\n",
              "    </tr>\n",
              "    <tr>\n",
              "      <th>175918</th>\n",
              "      <td>15.866415</td>\n",
              "      <td>-1.159094</td>\n",
              "      <td>GALAXY</td>\n",
              "      <td>0.137276</td>\n",
              "      <td>0.000023</td>\n",
              "      <td>19.12054</td>\n",
              "      <td>0.08667219</td>\n",
              "      <td>17.90217</td>\n",
              "      <td>0.01617296</td>\n",
              "      <td>17.00707</td>\n",
              "      <td>0.009945687</td>\n",
              "      <td>16.62113</td>\n",
              "      <td>0.01116389</td>\n",
              "    </tr>\n",
              "    <tr>\n",
              "      <th>175919</th>\n",
              "      <td>15.624099</td>\n",
              "      <td>-0.813441</td>\n",
              "      <td>GALAXY</td>\n",
              "      <td>0.237502</td>\n",
              "      <td>0.000043</td>\n",
              "      <td>20.28428</td>\n",
              "      <td>0.2404259</td>\n",
              "      <td>18.76537</td>\n",
              "      <td>0.03047216</td>\n",
              "      <td>17.38507</td>\n",
              "      <td>0.02042167</td>\n",
              "      <td>16.88052</td>\n",
              "      <td>0.01921708</td>\n",
              "    </tr>\n",
              "    <tr>\n",
              "      <th>175920</th>\n",
              "      <td>15.332944</td>\n",
              "      <td>-0.624599</td>\n",
              "      <td>QSO</td>\n",
              "      <td>0.190939</td>\n",
              "      <td>0.000080</td>\n",
              "      <td>20.02614</td>\n",
              "      <td>0.09893475</td>\n",
              "      <td>19.83186</td>\n",
              "      <td>0.0315743</td>\n",
              "      <td>18.93796</td>\n",
              "      <td>0.0268109</td>\n",
              "      <td>18.48788</td>\n",
              "      <td>0.0236895</td>\n",
              "    </tr>\n",
              "  </tbody>\n",
              "</table>\n",
              "<p>175921 rows × 13 columns</p>\n",
              "</div>"
            ],
            "text/plain": [
              "                ra       dec   class  ...  petroMagErr_r  petroMag_i petroMagErr_i\n",
              "0       146.622820 -0.951385  GALAXY  ...   0.03089815      18.05202  0.03665525  \n",
              "1       146.592720 -0.760256  GALAXY  ...   0.01007535      16.50206  0.01019981  \n",
              "2       146.910800 -0.074559  GALAXY  ...   0.03387981      17.43746  0.04512536  \n",
              "3       146.448310 -0.713400  GALAXY  ...   0.009233744     17.02182  0.008778921 \n",
              "4       146.788470 -0.310658  GALAXY  ...   0.03382286      17.86618  0.03925543  \n",
              "...            ...       ...     ...  ...            ...         ...           ...\n",
              "175916   16.005106 -0.855950  GALAXY  ...   0.008551153     16.60081  0.01340905  \n",
              "175917   15.651509 -0.637366  GALAXY  ...   0.01682307      17.13594  0.01566291  \n",
              "175918   15.866415 -1.159094  GALAXY  ...   0.009945687     16.62113  0.01116389  \n",
              "175919   15.624099 -0.813441  GALAXY  ...   0.02042167      16.88052  0.01921708  \n",
              "175920   15.332944 -0.624599  QSO     ...   0.0268109       18.48788  0.0236895   \n",
              "\n",
              "[175921 rows x 13 columns]"
            ]
          },
          "metadata": {},
          "execution_count": 20
        }
      ]
    },
    {
      "cell_type": "code",
      "metadata": {
        "colab": {
          "base_uri": "https://localhost:8080/",
          "height": 822
        },
        "id": "kXMTm7cH8XcS",
        "outputId": "6e3d1bd8-1637-4005-93f7-a044e4d30f23"
      },
      "source": [
        "### MAG PLOTS\n",
        "\n",
        "#mags = ['petroMag_'+band for band in 'ugriz']\n",
        "mags = ['petroMag_'+band for band in 'ugri'] #não existe petroMag_z\n",
        "\n",
        "key_list = mags \n",
        "color_list = ['black', 'green', 'red', 'tomato', 'palevioletred']\n",
        "hor = 2\n",
        "ver = 3\n",
        "\n",
        "plt.style.use('classic')\n",
        "\n",
        "fig = plt.figure(figsize=(14, 14), constrained_layout=True)\n",
        "gs = fig.add_gridspec(ver, hor, left=0.05, right=0.5, wspace=0.05)\n",
        "\n",
        "i=0\n",
        "binsize=0.2\n",
        "def binarange(arr):\n",
        "    minimo = min(arr)\n",
        "    print('min=',minimo)\n",
        "    maximo = max(arr)\n",
        "    print('max=',maximo)\n",
        "    return np.arange(minimo, maximo+binsize, binsize)\n",
        "\n",
        "bins=[0]*len(key_list)\n",
        "\n",
        "for v in range(ver):\n",
        "    for h in range(hor):\n",
        "        if v==2:\n",
        "            ax = fig.add_subplot(gs[v, 0])\n",
        "            for c, key in enumerate(key_list):\n",
        "                #bins = binarange(df(key))\n",
        "                ax.hist(df[key], bins=bins[c], color=color_list[c], alpha=1, label=key, histtype='step')\n",
        "            ax.set_title(\"All Mags\")\n",
        "            plt.legend()\n",
        "            \n",
        "            break\n",
        "       \n",
        "        print('key=',key_list[i])\n",
        "        ax = fig.add_subplot(gs[v, h])\n",
        "        bins[i] = binarange(df[key_list[i]])\n",
        "        ax.hist(df[key_list[i]], bins=bins[i], color=color_list[i], alpha=0.7)\n",
        "        ax.set_title(key_list[i])\n",
        "        i+=1\n",
        "\n",
        "plt.show"
      ],
      "execution_count": 21,
      "outputs": [
        {
          "output_type": "stream",
          "name": "stdout",
          "text": [
            "key= petroMag_u\n",
            "min= -9999   \n",
            "max= null    \n"
          ]
        },
        {
          "output_type": "error",
          "ename": "TypeError",
          "evalue": "ignored",
          "traceback": [
            "\u001b[0;31m---------------------------------------------------------------------------\u001b[0m",
            "\u001b[0;31mTypeError\u001b[0m                                 Traceback (most recent call last)",
            "\u001b[0;32m<ipython-input-21-c998768a02a6>\u001b[0m in \u001b[0;36m<module>\u001b[0;34m()\u001b[0m\n\u001b[1;32m     39\u001b[0m         \u001b[0mprint\u001b[0m\u001b[0;34m(\u001b[0m\u001b[0;34m'key='\u001b[0m\u001b[0;34m,\u001b[0m\u001b[0mkey_list\u001b[0m\u001b[0;34m[\u001b[0m\u001b[0mi\u001b[0m\u001b[0;34m]\u001b[0m\u001b[0;34m)\u001b[0m\u001b[0;34m\u001b[0m\u001b[0;34m\u001b[0m\u001b[0m\n\u001b[1;32m     40\u001b[0m         \u001b[0max\u001b[0m \u001b[0;34m=\u001b[0m \u001b[0mfig\u001b[0m\u001b[0;34m.\u001b[0m\u001b[0madd_subplot\u001b[0m\u001b[0;34m(\u001b[0m\u001b[0mgs\u001b[0m\u001b[0;34m[\u001b[0m\u001b[0mv\u001b[0m\u001b[0;34m,\u001b[0m \u001b[0mh\u001b[0m\u001b[0;34m]\u001b[0m\u001b[0;34m)\u001b[0m\u001b[0;34m\u001b[0m\u001b[0;34m\u001b[0m\u001b[0m\n\u001b[0;32m---> 41\u001b[0;31m         \u001b[0mbins\u001b[0m\u001b[0;34m[\u001b[0m\u001b[0mi\u001b[0m\u001b[0;34m]\u001b[0m \u001b[0;34m=\u001b[0m \u001b[0mbinarange\u001b[0m\u001b[0;34m(\u001b[0m\u001b[0mdf\u001b[0m\u001b[0;34m[\u001b[0m\u001b[0mkey_list\u001b[0m\u001b[0;34m[\u001b[0m\u001b[0mi\u001b[0m\u001b[0;34m]\u001b[0m\u001b[0;34m]\u001b[0m\u001b[0;34m)\u001b[0m\u001b[0;34m\u001b[0m\u001b[0;34m\u001b[0m\u001b[0m\n\u001b[0m\u001b[1;32m     42\u001b[0m         \u001b[0max\u001b[0m\u001b[0;34m.\u001b[0m\u001b[0mhist\u001b[0m\u001b[0;34m(\u001b[0m\u001b[0mdf\u001b[0m\u001b[0;34m[\u001b[0m\u001b[0mkey_list\u001b[0m\u001b[0;34m[\u001b[0m\u001b[0mi\u001b[0m\u001b[0;34m]\u001b[0m\u001b[0;34m]\u001b[0m\u001b[0;34m,\u001b[0m \u001b[0mbins\u001b[0m\u001b[0;34m=\u001b[0m\u001b[0mbins\u001b[0m\u001b[0;34m[\u001b[0m\u001b[0mi\u001b[0m\u001b[0;34m]\u001b[0m\u001b[0;34m,\u001b[0m \u001b[0mcolor\u001b[0m\u001b[0;34m=\u001b[0m\u001b[0mcolor_list\u001b[0m\u001b[0;34m[\u001b[0m\u001b[0mi\u001b[0m\u001b[0;34m]\u001b[0m\u001b[0;34m,\u001b[0m \u001b[0malpha\u001b[0m\u001b[0;34m=\u001b[0m\u001b[0;36m0.7\u001b[0m\u001b[0;34m)\u001b[0m\u001b[0;34m\u001b[0m\u001b[0;34m\u001b[0m\u001b[0m\n\u001b[1;32m     43\u001b[0m         \u001b[0max\u001b[0m\u001b[0;34m.\u001b[0m\u001b[0mset_title\u001b[0m\u001b[0;34m(\u001b[0m\u001b[0mkey_list\u001b[0m\u001b[0;34m[\u001b[0m\u001b[0mi\u001b[0m\u001b[0;34m]\u001b[0m\u001b[0;34m)\u001b[0m\u001b[0;34m\u001b[0m\u001b[0;34m\u001b[0m\u001b[0m\n",
            "\u001b[0;32m<ipython-input-21-c998768a02a6>\u001b[0m in \u001b[0;36mbinarange\u001b[0;34m(arr)\u001b[0m\n\u001b[1;32m     21\u001b[0m     \u001b[0mmaximo\u001b[0m \u001b[0;34m=\u001b[0m \u001b[0mmax\u001b[0m\u001b[0;34m(\u001b[0m\u001b[0marr\u001b[0m\u001b[0;34m)\u001b[0m\u001b[0;34m\u001b[0m\u001b[0;34m\u001b[0m\u001b[0m\n\u001b[1;32m     22\u001b[0m     \u001b[0mprint\u001b[0m\u001b[0;34m(\u001b[0m\u001b[0;34m'max='\u001b[0m\u001b[0;34m,\u001b[0m\u001b[0mmaximo\u001b[0m\u001b[0;34m)\u001b[0m\u001b[0;34m\u001b[0m\u001b[0;34m\u001b[0m\u001b[0m\n\u001b[0;32m---> 23\u001b[0;31m     \u001b[0;32mreturn\u001b[0m \u001b[0mnp\u001b[0m\u001b[0;34m.\u001b[0m\u001b[0marange\u001b[0m\u001b[0;34m(\u001b[0m\u001b[0mminimo\u001b[0m\u001b[0;34m,\u001b[0m \u001b[0mmaximo\u001b[0m\u001b[0;34m+\u001b[0m\u001b[0mbinsize\u001b[0m\u001b[0;34m,\u001b[0m \u001b[0mbinsize\u001b[0m\u001b[0;34m)\u001b[0m\u001b[0;34m\u001b[0m\u001b[0;34m\u001b[0m\u001b[0m\n\u001b[0m\u001b[1;32m     24\u001b[0m \u001b[0;34m\u001b[0m\u001b[0m\n\u001b[1;32m     25\u001b[0m \u001b[0mbins\u001b[0m\u001b[0;34m=\u001b[0m\u001b[0;34m[\u001b[0m\u001b[0;36m0\u001b[0m\u001b[0;34m]\u001b[0m\u001b[0;34m*\u001b[0m\u001b[0mlen\u001b[0m\u001b[0;34m(\u001b[0m\u001b[0mkey_list\u001b[0m\u001b[0;34m)\u001b[0m\u001b[0;34m\u001b[0m\u001b[0;34m\u001b[0m\u001b[0m\n",
            "\u001b[0;31mTypeError\u001b[0m: can only concatenate str (not \"float\") to str"
          ]
        },
        {
          "output_type": "display_data",
          "data": {
            "image/png": "[encoded data removed]",
            "text/plain": [
              "<Figure size 1120x1120 with 6 Axes>"
            ]
          },
          "metadata": {}
        }
      ]
    }
  ]
}